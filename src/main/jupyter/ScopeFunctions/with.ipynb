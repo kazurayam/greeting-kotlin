{
 "cells": [
  {
   "cell_type": "markdown",
   "source": [
    "### with\n",
    "https://play.kotlinlang.org/byExample/06_scope_functions/03_with"
   ],
   "metadata": {
    "collapsed": false
   }
  },
  {
   "cell_type": "code",
   "execution_count": 5,
   "metadata": {
    "collapsed": true,
    "ExecuteTime": {
     "end_time": "2024-01-03T02:18:22.885239Z",
     "start_time": "2024-01-03T02:18:20.293127Z"
    }
   },
   "outputs": [
    {
     "name": "stdout",
     "output_type": "stream",
     "text": [
      "www.example.com:80\n"
     ]
    }
   ],
   "source": [
    "val configuration: Map<String, String> = \n",
    "    mapOf(\n",
    "    \"host\" to \"www.example.com\",\n",
    "    \"port\" to \"80\")\n",
    "println(\"${configuration.get(\"host\")}:${configuration.get(\"port\")}\")\n",
    "\n",
    "//with (configuration) {\n",
    "//    println(\"$host:$port\")\n",
    "//}"
   ]
  },
  {
   "cell_type": "code",
   "outputs": [
    {
     "name": "stdout",
     "output_type": "stream",
     "text": [
      "www.example.com:80\n"
     ]
    }
   ],
   "source": [
    "data class Configuration(val host: String, val port: Int)\n",
    "val myConf = Configuration(host=\"www.example.com\", port=80)\n",
    "with(myConf) {\n",
    "    println(\"$host:$port\")\n",
    "}"
   ],
   "metadata": {
    "collapsed": false,
    "ExecuteTime": {
     "end_time": "2024-01-03T02:22:38.173228Z",
     "start_time": "2024-01-03T02:22:31.982033Z"
    }
   },
   "execution_count": 8
  }
 ],
 "metadata": {
  "kernelspec": {
   "display_name": "Kotlin",
   "language": "kotlin",
   "name": "kotlin"
  },
  "language_info": {
   "name": "kotlin",
   "version": "1.9.0",
   "mimetype": "text/x-kotlin",
   "file_extension": ".kt",
   "pygments_lexer": "kotlin",
   "codemirror_mode": "text/x-kotlin",
   "nbconvert_exporter": ""
  }
 },
 "nbformat": 4,
 "nbformat_minor": 0
}
