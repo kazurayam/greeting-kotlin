{
 "cells": [
  {
   "cell_type": "markdown",
   "source": [
    "### let\n",
    "\n",
    "https://play.kotlinlang.org/byExample/06_scope_functions/01_let"
   ],
   "metadata": {
    "collapsed": false
   }
  },
  {
   "cell_type": "code",
   "execution_count": 6,
   "metadata": {
    "collapsed": true,
    "ExecuteTime": {
     "end_time": "2024-01-03T01:47:22.866725Z",
     "start_time": "2024-01-03T01:47:19.905237Z"
    }
   },
   "outputs": [
    {
     "name": "stdout",
     "output_type": "stream",
     "text": [
      "<<test>> is empty: false\n"
     ]
    }
   ],
   "source": [
    "fun customPrint(str: String) {\n",
    "    print(\"<<$str>>\")\n",
    "}\n",
    "val empty = \"test\".let {\n",
    "    customPrint(it)\n",
    "    it.isEmpty()\n",
    "}\n",
    "println(\" is empty: $empty\")"
   ]
  },
  {
   "cell_type": "code",
   "outputs": [],
   "source": [
    "fun printNonNull(str: String?) {\n",
    "    println()\n",
    "}"
   ],
   "metadata": {
    "collapsed": false
   }
  },
  {
   "cell_type": "markdown",
   "source": [
    "https://qiita.com/ngsw_taro/items/d29e3080d9fc8a38691e"
   ],
   "metadata": {
    "collapsed": false
   }
  },
  {
   "cell_type": "code",
   "outputs": [
    {
     "name": "stdout",
     "output_type": "stream",
     "text": [
      "HOGE\n"
     ]
    }
   ],
   "source": [
    "val s = \"hoge\".let { it.toUpperCase() }\n",
    "println(s)"
   ],
   "metadata": {
    "collapsed": false,
    "ExecuteTime": {
     "end_time": "2024-01-03T01:50:37.470164Z",
     "start_time": "2024-01-03T01:50:33.019228Z"
    }
   },
   "execution_count": 7
  },
  {
   "cell_type": "markdown",
   "source": [
    "#### letはnullableな変数にたいして使う"
   ],
   "metadata": {
    "collapsed": false
   }
  },
  {
   "cell_type": "code",
   "outputs": [
    {
     "name": "stdout",
     "output_type": "stream",
     "text": [
      "FOO\n"
     ]
    }
   ],
   "source": [
    "val foo = \"foo\"\n",
    "// String?な変数fooの大文字表現を得たいときこうする\n",
    "val upperCase: String? = foo?.let { it.toUpperCase() }\n",
    "println(upperCase)"
   ],
   "metadata": {
    "collapsed": false,
    "ExecuteTime": {
     "end_time": "2024-01-03T01:52:23.013673Z",
     "start_time": "2024-01-03T01:52:19.092788Z"
    }
   },
   "execution_count": 10
  }
 ],
 "metadata": {
  "kernelspec": {
   "display_name": "Kotlin",
   "language": "kotlin",
   "name": "kotlin"
  },
  "language_info": {
   "name": "kotlin",
   "version": "1.9.0",
   "mimetype": "text/x-kotlin",
   "file_extension": ".kt",
   "pygments_lexer": "kotlin",
   "codemirror_mode": "text/x-kotlin",
   "nbconvert_exporter": ""
  }
 },
 "nbformat": 4,
 "nbformat_minor": 0
}
