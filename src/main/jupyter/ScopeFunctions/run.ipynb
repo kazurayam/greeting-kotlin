{
 "cells": [
  {
   "cell_type": "markdown",
   "source": [
    "### run\n",
    "https://play.kotlinlang.org/byExample/06_scope_functions/02_run"
   ],
   "metadata": {
    "collapsed": false
   }
  },
  {
   "cell_type": "code",
   "execution_count": 3,
   "metadata": {
    "collapsed": true,
    "ExecuteTime": {
     "end_time": "2024-01-03T02:07:40.488379Z",
     "start_time": "2024-01-03T02:07:37.571779Z"
    }
   },
   "outputs": [
    {
     "name": "stdout",
     "output_type": "stream",
     "text": [
      "for \"null\":\n",
      "kotlin.Unit\n",
      "for \"\":\n",
      "\tis empty? true\n",
      "\tlenght = 0\n",
      "kotlin.Unit\n",
      "for \"some string with Kotlin\":\n",
      "\tis empty? false\n",
      "\tlenght = 23\n",
      "kotlin.Unit\n"
     ]
    }
   ],
   "source": [
    "fun getNullableLength(ns: String?) {\n",
    "    println(\"for \\\"$ns\\\":\")\n",
    "    ns?.run {\n",
    "        println(\"\\tis empty? \" + isEmpty())\n",
    "        println(\"\\tlenght = $length\")\n",
    "        length\n",
    "    }\n",
    "}\n",
    "println(getNullableLength(null))\n",
    "println(getNullableLength(\"\"))\n",
    "println(getNullableLength(\"some string with Kotlin\"))"
   ]
  }
 ],
 "metadata": {
  "kernelspec": {
   "display_name": "Kotlin",
   "language": "kotlin",
   "name": "kotlin"
  },
  "language_info": {
   "name": "kotlin",
   "version": "1.9.0",
   "mimetype": "text/x-kotlin",
   "file_extension": ".kt",
   "pygments_lexer": "kotlin",
   "codemirror_mode": "text/x-kotlin",
   "nbconvert_exporter": ""
  }
 },
 "nbformat": 4,
 "nbformat_minor": 0
}
