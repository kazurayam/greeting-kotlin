{
 "cells": [
  {
   "cell_type": "markdown",
   "source": [
    "## Generics\n",
    "\n",
    "https://play.kotlinlang.org/byExample/01_introduction/06_Generics"
   ],
   "metadata": {
    "collapsed": false
   }
  },
  {
   "cell_type": "code",
   "execution_count": 7,
   "metadata": {
    "collapsed": true,
    "ExecuteTime": {
     "end_time": "2023-12-31T08:15:46.104401Z",
     "start_time": "2023-12-31T08:15:45.370585Z"
    }
   },
   "outputs": [
    {
     "name": "stdout",
     "output_type": "stream",
     "text": [
      "MutableStack(a, b, c)\n",
      "c\n",
      "c\n",
      "false\n",
      "2\n"
     ]
    }
   ],
   "source": [
    "class MutableStack<E>(vararg items: E) {\n",
    "    private val elements = items.toMutableList()\n",
    "    fun push(element: E) = elements.add(element)\n",
    "    fun peek(): E = elements.last()\n",
    "    fun pop(): E = elements.removeAt(elements.size - 1)\n",
    "    fun isEmpty() = elements.isEmpty()\n",
    "    fun size() = elements.size\n",
    "    override fun toString() = \"MutableStack(${elements.joinToString()})\"\n",
    "}\n",
    "val stack = MutableStack(\"a\", \"b\", \"c\")\n",
    "println(stack.toString())\n",
    "println(stack.peek())\n",
    "println(stack.pop())\n",
    "println(stack.isEmpty())\n",
    "println(stack.size())"
   ]
  },
  {
   "cell_type": "markdown",
   "source": [
    "### Generic Functions"
   ],
   "metadata": {
    "collapsed": false
   }
  },
  {
   "cell_type": "code",
   "outputs": [
    {
     "name": "stdout",
     "output_type": "stream",
     "text": [
      "MutableStack(0.62, 3.14, 2.7)\n"
     ]
    }
   ],
   "source": [
    "fun <E> mutableStackOf(vararg elements: E) = MutableStack(*elements)\n",
    "val stack = mutableStackOf(0.62, 3.14, 2.7)\n",
    "println(stack)"
   ],
   "metadata": {
    "collapsed": false,
    "ExecuteTime": {
     "end_time": "2023-12-31T08:18:06.594497Z",
     "start_time": "2023-12-31T08:18:06.291922Z"
    }
   },
   "execution_count": 9
  }
 ],
 "metadata": {
  "kernelspec": {
   "display_name": "Kotlin",
   "language": "kotlin",
   "name": "kotlin"
  },
  "language_info": {
   "name": "kotlin",
   "version": "1.9.0",
   "mimetype": "text/x-kotlin",
   "file_extension": ".kt",
   "pygments_lexer": "kotlin",
   "codemirror_mode": "text/x-kotlin",
   "nbconvert_exporter": ""
  }
 },
 "nbformat": 4,
 "nbformat_minor": 0
}
