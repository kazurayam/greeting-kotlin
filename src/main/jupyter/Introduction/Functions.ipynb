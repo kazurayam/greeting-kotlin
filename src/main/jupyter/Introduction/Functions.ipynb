{
 "cells": [
  {
   "cell_type": "markdown",
   "source": [
    "# \n",
    "## Functions\n",
    "\n",
    "https://play.kotlinlang.org/byExample/01_introduction/02_Functions"
   ],
   "metadata": {
    "collapsed": false
   }
  },
  {
   "cell_type": "markdown",
   "source": [
    "## Default Parameter Values and Named Arguments"
   ],
   "metadata": {
    "collapsed": false
   }
  },
  {
   "cell_type": "code",
   "execution_count": 1,
   "metadata": {
    "collapsed": true,
    "ExecuteTime": {
     "end_time": "2023-12-31T05:39:20.980676Z",
     "start_time": "2023-12-31T05:39:19.742452Z"
    }
   },
   "outputs": [
    {
     "name": "stdout",
     "output_type": "stream",
     "text": [
      "Hello\n",
      "[Log] Hello\n",
      "[Info] Hello\n",
      "[Log] Hello\n",
      "3\n",
      "8\n"
     ]
    }
   ],
   "source": [
    "fun printMessage(message: String): Unit {\n",
    "    println(message)\n",
    "}\n",
    "\n",
    "fun printMessageWithPrefix(message: String, prefix: String = \"Info\") {\n",
    "    println(\"[$prefix] $message\")\n",
    "}\n",
    "\n",
    "fun sum(x: Int, y: Int): Int {\n",
    "    return x + y\n",
    "}\n",
    "\n",
    "fun multiply(x: Int, y: Int): Int = x * y\n",
    "\n",
    "//fun main() {\n",
    "    printMessage(\"Hello\")\n",
    "    printMessageWithPrefix(\"Hello\", \"Log\")\n",
    "    printMessageWithPrefix(\"Hello\")\n",
    "    printMessageWithPrefix(prefix = \"Log\", message = \"Hello\")\n",
    "    println(sum(1,2))\n",
    "    println(multiply(2, 4))\n",
    "//}"
   ]
  },
  {
   "cell_type": "markdown",
   "source": [
    "## Infix Functions"
   ],
   "metadata": {
    "collapsed": false
   }
  },
  {
   "cell_type": "code",
   "outputs": [
    {
     "name": "stdout",
     "output_type": "stream",
     "text": [
      "Bye Bye \n"
     ]
    }
   ],
   "source": [
    "infix fun Int.times(str: String) = str.repeat(this)\n",
    "println(2 times \"Bye \")"
   ],
   "metadata": {
    "collapsed": false,
    "ExecuteTime": {
     "end_time": "2023-12-31T05:44:43.694584Z",
     "start_time": "2023-12-31T05:44:43.140146Z"
    }
   },
   "execution_count": 2
  },
  {
   "cell_type": "code",
   "outputs": [
    {
     "name": "stdout",
     "output_type": "stream",
     "text": [
      "(Ferrari, Katrina)\n"
     ]
    }
   ],
   "source": [
    "val pair = \"Ferrari\" to \"Katrina\"\n",
    "println(pair)"
   ],
   "metadata": {
    "collapsed": false,
    "ExecuteTime": {
     "end_time": "2023-12-31T05:45:28.322004Z",
     "start_time": "2023-12-31T05:45:27.923992Z"
    }
   },
   "execution_count": 3
  },
  {
   "cell_type": "code",
   "outputs": [
    {
     "name": "stdout",
     "output_type": "stream",
     "text": [
      "(McLaren, Lucas)\n"
     ]
    }
   ],
   "source": [
    "infix fun String.onto(other: String) = Pair(this, other)\n",
    "val myPair = \"McLaren\" onto \"Lucas\"\n",
    "println(myPair)"
   ],
   "metadata": {
    "collapsed": false,
    "ExecuteTime": {
     "end_time": "2023-12-31T05:47:23.189341Z",
     "start_time": "2023-12-31T05:47:22.869463Z"
    }
   },
   "execution_count": 4
  },
  {
   "cell_type": "code",
   "outputs": [],
   "source": [
    "class Person(val name: String) {\n",
    "    val likedPeople = mutableListOf<Person>()\n",
    "    infix fun likes(other: Person) { likedPeople.add(other) }\n",
    "}\n",
    "val sophia = Person(\"Sophia\")\n",
    "val claudia = Person(\"Claudia\")\n",
    "sophia likes claudia"
   ],
   "metadata": {
    "collapsed": false,
    "ExecuteTime": {
     "end_time": "2023-12-31T05:49:58.882825Z",
     "start_time": "2023-12-31T05:49:58.250570Z"
    }
   },
   "execution_count": 5
  },
  {
   "cell_type": "markdown",
   "source": [
    "## Operator Functions"
   ],
   "metadata": {
    "collapsed": false
   }
  },
  {
   "cell_type": "code",
   "outputs": [
    {
     "name": "stdout",
     "output_type": "stream",
     "text": [
      "Bye Bye \n"
     ]
    }
   ],
   "source": [
    "operator fun Int.times(str: String) = str.repeat(this)\n",
    "println(2 * \"Bye \")"
   ],
   "metadata": {
    "collapsed": false,
    "ExecuteTime": {
     "end_time": "2023-12-31T06:10:51.064749Z",
     "start_time": "2023-12-31T06:10:50.748623Z"
    }
   },
   "execution_count": 6
  },
  {
   "cell_type": "code",
   "outputs": [
    {
     "name": "stdout",
     "output_type": "stream",
     "text": [
      "Always forgive \n"
     ]
    }
   ],
   "source": [
    "operator fun String.get(range: IntRange) = substring(range)  // 3\n",
    "val str = \"Always forgive your enemies; nothing annoys them so much.\"\n",
    "println(str[0..14])   \n"
   ],
   "metadata": {
    "collapsed": false,
    "ExecuteTime": {
     "end_time": "2023-12-31T06:11:49.857139Z",
     "start_time": "2023-12-31T06:11:49.427718Z"
    }
   },
   "execution_count": 7
  },
  {
   "cell_type": "markdown",
   "source": [
    "## Functions with vararg Parameters"
   ],
   "metadata": {
    "collapsed": false
   }
  },
  {
   "cell_type": "code",
   "outputs": [
    {
     "name": "stdout",
     "output_type": "stream",
     "text": [
      "Hello\n",
      "Hallo\n",
      "Salut\n",
      "Hola\n",
      "Здравствйте\n"
     ]
    }
   ],
   "source": [
    "fun printAll(vararg messages: String) {\n",
    "    for (m in messages) println(m)\n",
    "}\n",
    "printAll(\"Hello\", \"Hallo\", \"Salut\", \"Hola\", \"Здравствйте\");"
   ],
   "metadata": {
    "collapsed": false,
    "ExecuteTime": {
     "end_time": "2023-12-31T06:48:38.783483Z",
     "start_time": "2023-12-31T06:48:38.268543Z"
    }
   },
   "execution_count": 8
  },
  {
   "cell_type": "code",
   "outputs": [
    {
     "name": "stdout",
     "output_type": "stream",
     "text": [
      "Greeing: Hello\n",
      "Greeing: Hallo\n",
      "Greeing: Salut\n"
     ]
    }
   ],
   "source": [
    "fun printAllWithPrefix(vararg messages: String, prefix: String) {\n",
    "    for (m in messages) println(prefix + m);\n",
    "}\n",
    "printAllWithPrefix(\"Hello\", \"Hallo\", \"Salut\", prefix = \"Greeing: \")"
   ],
   "metadata": {
    "collapsed": false,
    "ExecuteTime": {
     "end_time": "2023-12-31T06:57:47.374012Z",
     "start_time": "2023-12-31T06:57:47.139548Z"
    }
   },
   "execution_count": 10
  },
  {
   "cell_type": "code",
   "outputs": [
    {
     "name": "stdout",
     "output_type": "stream",
     "text": [
      "Hello\n",
      "Hallo\n",
      "Salut\n"
     ]
    }
   ],
   "source": [
    "fun log(vararg entries: String) {\n",
    "    printAll(*entries)\n",
    "}\n",
    "log(\"Hello\", \"Hallo\", \"Salut\");"
   ],
   "metadata": {
    "collapsed": false,
    "ExecuteTime": {
     "end_time": "2023-12-31T06:58:49.333470Z",
     "start_time": "2023-12-31T06:58:49.186829Z"
    }
   },
   "execution_count": 11
  }
 ],
 "metadata": {
  "kernelspec": {
   "display_name": "Kotlin",
   "language": "kotlin",
   "name": "kotlin"
  },
  "language_info": {
   "name": "kotlin",
   "version": "1.9.0",
   "mimetype": "text/x-kotlin",
   "file_extension": ".kt",
   "pygments_lexer": "kotlin",
   "codemirror_mode": "text/x-kotlin",
   "nbconvert_exporter": ""
  }
 },
 "nbformat": 4,
 "nbformat_minor": 0
}
