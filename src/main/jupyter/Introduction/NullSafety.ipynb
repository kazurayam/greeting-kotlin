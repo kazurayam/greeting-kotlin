{
 "cells": [
  {
   "cell_type": "markdown",
   "source": [
    "# Null Safety"
   ],
   "metadata": {
    "collapsed": false
   }
  },
  {
   "cell_type": "code",
   "execution_count": 7,
   "metadata": {
    "collapsed": true,
    "ExecuteTime": {
     "end_time": "2023-12-31T07:47:12.338588Z",
     "start_time": "2023-12-31T07:47:11.974994Z"
    }
   },
   "outputs": [],
   "source": [
    "var neverNull: String = \"This can't be null\"\n",
    "//neverNull = null"
   ]
  },
  {
   "cell_type": "code",
   "outputs": [],
   "source": [
    "var nullable: String? = \"You can kee a null here\"\n",
    "nullable = null"
   ],
   "metadata": {
    "collapsed": false,
    "ExecuteTime": {
     "end_time": "2023-12-31T07:45:00.368827Z",
     "start_time": "2023-12-31T07:45:00.075410Z"
    }
   },
   "execution_count": 3
  },
  {
   "cell_type": "code",
   "outputs": [
    {
     "name": "stderr",
     "output_type": "stream",
     "text": [
      "Line_4.jupyter.kts (2:19 - 23) Null can not be a value of a non-null type String"
     ]
    }
   ],
   "source": [
    "var inferredNonNull = \"The compiler assumes non-null\"\n",
    "inferredNonNull = null"
   ],
   "metadata": {
    "collapsed": false,
    "ExecuteTime": {
     "end_time": "2023-12-31T07:45:45.288979Z",
     "start_time": "2023-12-31T07:45:45.191164Z"
    }
   },
   "execution_count": 4
  },
  {
   "cell_type": "code",
   "outputs": [
    {
     "name": "stderr",
     "output_type": "stream",
     "text": [
      "Line_8.jupyter.kts (5:11 - 19) Type mismatch: inferred type is String? but String was expected"
     ]
    }
   ],
   "source": [
    "fun strLength(notNull: String): Int {\n",
    "    return notNull.length\n",
    "}\n",
    "strLength(neverNull)\n",
    "strLength(nullable)"
   ],
   "metadata": {
    "collapsed": false,
    "ExecuteTime": {
     "end_time": "2023-12-31T07:47:16.106460Z",
     "start_time": "2023-12-31T07:47:16.004192Z"
    }
   },
   "execution_count": 8
  },
  {
   "cell_type": "markdown",
   "source": [
    "## Working with Nulls"
   ],
   "metadata": {
    "collapsed": false
   }
  },
  {
   "cell_type": "code",
   "outputs": [
    {
     "name": "stdout",
     "output_type": "stream",
     "text": [
      "Empty or null string\n",
      "Empty or null string\n",
      "String of length 5\n"
     ]
    }
   ],
   "source": [
    "fun describeString(maybeString: String?): String {\n",
    "    if (maybeString != null && maybeString.length > 0) {\n",
    "        return \"String of length ${maybeString.length}\"\n",
    "    } else {\n",
    "        return \"Empty or null string\"\n",
    "    }\n",
    "}\n",
    "println(describeString(\"\"))\n",
    "println(describeString(null))\n",
    "println(describeString(\"Hello\"))"
   ],
   "metadata": {
    "collapsed": false,
    "ExecuteTime": {
     "end_time": "2023-12-31T07:51:20.292374Z",
     "start_time": "2023-12-31T07:51:19.653017Z"
    }
   },
   "execution_count": 13
  }
 ],
 "metadata": {
  "kernelspec": {
   "display_name": "Kotlin",
   "language": "kotlin",
   "name": "kotlin"
  },
  "language_info": {
   "name": "kotlin",
   "version": "1.9.0",
   "mimetype": "text/x-kotlin",
   "file_extension": ".kt",
   "pygments_lexer": "kotlin",
   "codemirror_mode": "text/x-kotlin",
   "nbconvert_exporter": ""
  }
 },
 "nbformat": 4,
 "nbformat_minor": 0
}
