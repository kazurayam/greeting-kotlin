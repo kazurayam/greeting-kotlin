{
 "cells": [
  {
   "cell_type": "markdown",
   "source": [
    "# Variables\n",
    "\n",
    "https://play.kotlinlang.org/byExample/01_introduction/03_Variables"
   ],
   "metadata": {
    "collapsed": false
   }
  },
  {
   "cell_type": "code",
   "execution_count": 3,
   "metadata": {
    "collapsed": true,
    "ExecuteTime": {
     "end_time": "2023-12-31T07:02:34.610733Z",
     "start_time": "2023-12-31T07:02:34.235795Z"
    }
   },
   "outputs": [
    {
     "name": "stdout",
     "output_type": "stream",
     "text": [
      "initial\n"
     ]
    }
   ],
   "source": [
    "var a: String = \"initial\"\n",
    "println(a)\n",
    "val b: Int = 1\n",
    "val c = 3"
   ]
  },
  {
   "cell_type": "code",
   "outputs": [
    {
     "name": "stderr",
     "output_type": "stream",
     "text": [
      "Line_4.jupyter.kts (1:1 - 11) Property must be initialized or be abstract\n",
      "Line_4.jupyter.kts (2:9 - 10) Variable 'e' must be initialized"
     ]
    }
   ],
   "source": [
    "var e: Int\n",
    "println(e)"
   ],
   "metadata": {
    "collapsed": false,
    "ExecuteTime": {
     "end_time": "2023-12-31T07:41:44.551200Z",
     "start_time": "2023-12-31T07:41:44.200212Z"
    }
   },
   "execution_count": 4
  },
  {
   "cell_type": "code",
   "outputs": [
    {
     "name": "stderr",
     "output_type": "stream",
     "text": [
      "Line_5.jupyter.kts (2:5 - 18) Unresolved reference: someCondition\n",
      "Line_5.jupyter.kts (3:5 - 6) Captured member values initialization is forbidden due to possible reassignment"
     ]
    }
   ],
   "source": [
    "val d: Int\n",
    "if (someCondition()) {\n",
    "    d = 1\n",
    "} else {\n",
    "    d = 2\n",
    "}\n",
    "\n",
    "println(d)"
   ],
   "metadata": {
    "collapsed": false,
    "ExecuteTime": {
     "end_time": "2023-12-31T07:42:59.305582Z",
     "start_time": "2023-12-31T07:42:58.927814Z"
    }
   },
   "execution_count": 5
  }
 ],
 "metadata": {
  "kernelspec": {
   "display_name": "Kotlin",
   "language": "kotlin",
   "name": "kotlin"
  },
  "language_info": {
   "name": "kotlin",
   "version": "1.9.0",
   "mimetype": "text/x-kotlin",
   "file_extension": ".kt",
   "pygments_lexer": "kotlin",
   "codemirror_mode": "text/x-kotlin",
   "nbconvert_exporter": ""
  }
 },
 "nbformat": 4,
 "nbformat_minor": 0
}
