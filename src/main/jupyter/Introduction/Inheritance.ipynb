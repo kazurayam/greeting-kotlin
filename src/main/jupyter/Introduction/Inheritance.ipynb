{
 "cells": [
  {
   "cell_type": "markdown",
   "source": [
    "## Inheritance\n",
    "\n",
    "https://play.kotlinlang.org/byExample/01_introduction/07_Inheritance"
   ],
   "metadata": {
    "collapsed": false
   }
  },
  {
   "cell_type": "code",
   "execution_count": 1,
   "metadata": {
    "collapsed": true,
    "ExecuteTime": {
     "end_time": "2023-12-31T08:26:10.948475Z",
     "start_time": "2023-12-31T08:26:10.304684Z"
    }
   },
   "outputs": [
    {
     "name": "stdout",
     "output_type": "stream",
     "text": [
      "wif wif!\n"
     ]
    }
   ],
   "source": [
    "open class Dog {\n",
    "    open fun sayHello() {\n",
    "        println(\"wow wow!\");\n",
    "    }\n",
    "}\n",
    "\n",
    "class Yorkshire: Dog() {\n",
    "    override fun sayHello() {\n",
    "        println(\"wif wif!\")\n",
    "    }\n",
    "}\n",
    "\n",
    "val dog: Dog = Yorkshire()\n",
    "dog.sayHello()"
   ]
  },
  {
   "cell_type": "markdown",
   "source": [
    "### Inheritance with Parameterized Constructor"
   ],
   "metadata": {
    "collapsed": false
   }
  },
  {
   "cell_type": "code",
   "outputs": [
    {
     "name": "stdout",
     "output_type": "stream",
     "text": [
      "A tiger from Siberia says: grrhhh!\n"
     ]
    }
   ],
   "source": [
    "open class Tiger(val origin: String) {\n",
    "    fun sayHello() {\n",
    "        println(\"A tiger from $origin says: grrhhh!\")\n",
    "    }\n",
    "}\n",
    "\n",
    "class SiberianTiger: Tiger(\"Siberia\")\n",
    "\n",
    "val tiger: Tiger = SiberianTiger()\n",
    "tiger.sayHello()"
   ],
   "metadata": {
    "collapsed": false,
    "ExecuteTime": {
     "end_time": "2023-12-31T08:29:41.036384Z",
     "start_time": "2023-12-31T08:29:40.566490Z"
    }
   },
   "execution_count": 3
  },
  {
   "cell_type": "markdown",
   "source": [
    "### Passing Constructor Arguments to Superclass"
   ],
   "metadata": {
    "collapsed": false
   }
  },
  {
   "cell_type": "code",
   "outputs": [
    {
     "name": "stdout",
     "output_type": "stream",
     "text": [
      "Rufo, the lion from India says: graoh!\n"
     ]
    }
   ],
   "source": [
    "open class Lion(val name: String, val origin: String) {\n",
    "    fun sayHello() {\n",
    "        println(\"$name, the lion from $origin says: graoh!\")\n",
    "    }\n",
    "}\n",
    "class Asiatic(name: String): Lion(name = name, origin = \"India\")\n",
    "val lion: Lion = Asiatic(\"Rufo\")\n",
    "lion.sayHello()"
   ],
   "metadata": {
    "collapsed": false,
    "ExecuteTime": {
     "end_time": "2023-12-31T08:32:47.202757Z",
     "start_time": "2023-12-31T08:32:46.723308Z"
    }
   },
   "execution_count": 4
  }
 ],
 "metadata": {
  "kernelspec": {
   "display_name": "Kotlin",
   "language": "kotlin",
   "name": "kotlin"
  },
  "language_info": {
   "name": "kotlin",
   "version": "1.9.0",
   "mimetype": "text/x-kotlin",
   "file_extension": ".kt",
   "pygments_lexer": "kotlin",
   "codemirror_mode": "text/x-kotlin",
   "nbconvert_exporter": ""
  }
 },
 "nbformat": 4,
 "nbformat_minor": 0
}
