{
 "cells": [
  {
   "cell_type": "markdown",
   "source": [
    "## Classes\n",
    "\n",
    "https://play.kotlinlang.org/byExample/01_introduction/05_Classes"
   ],
   "metadata": {
    "collapsed": false
   }
  },
  {
   "cell_type": "code",
   "execution_count": 1,
   "metadata": {
    "collapsed": true,
    "ExecuteTime": {
     "end_time": "2023-12-31T08:00:35.923972Z",
     "start_time": "2023-12-31T08:00:35.694222Z"
    }
   },
   "outputs": [],
   "source": [
    "class Customer"
   ]
  },
  {
   "cell_type": "code",
   "outputs": [],
   "source": [
    "class Contact(val id: Int, var email: String)"
   ],
   "metadata": {
    "collapsed": false,
    "ExecuteTime": {
     "end_time": "2023-12-31T08:00:59.718187Z",
     "start_time": "2023-12-31T08:00:59.329869Z"
    }
   },
   "execution_count": 2
  },
  {
   "cell_type": "code",
   "outputs": [
    {
     "name": "stdout",
     "output_type": "stream",
     "text": [
      "1\n",
      "jane@gmail.com\n"
     ]
    }
   ],
   "source": [
    "val customer = Customer()\n",
    "val contact = Contact(1, \"mary@gmail.com\")\n",
    "println(contact.id)\n",
    "contact.email = \"jane@gmail.com\"\n",
    "println(contact.email)"
   ],
   "metadata": {
    "collapsed": false,
    "ExecuteTime": {
     "end_time": "2023-12-31T08:02:08.592674Z",
     "start_time": "2023-12-31T08:02:08.042398Z"
    }
   },
   "execution_count": 3
  }
 ],
 "metadata": {
  "kernelspec": {
   "display_name": "Kotlin",
   "language": "kotlin",
   "name": "kotlin"
  },
  "language_info": {
   "name": "kotlin",
   "version": "1.9.0",
   "mimetype": "text/x-kotlin",
   "file_extension": ".kt",
   "pygments_lexer": "kotlin",
   "codemirror_mode": "text/x-kotlin",
   "nbconvert_exporter": ""
  }
 },
 "nbformat": 4,
 "nbformat_minor": 0
}
