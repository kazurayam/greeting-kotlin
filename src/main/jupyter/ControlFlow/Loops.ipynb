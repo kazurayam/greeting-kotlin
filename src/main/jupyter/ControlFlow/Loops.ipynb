{
 "cells": [
  {
   "cell_type": "markdown",
   "source": [
    "## Loops\n",
    "https://play.kotlinlang.org/byExample/02_control_flow/02_Loops"
   ],
   "metadata": {
    "collapsed": false
   }
  },
  {
   "cell_type": "markdown",
   "source": [
    " ### for"
   ],
   "metadata": {
    "collapsed": false
   }
  },
  {
   "cell_type": "code",
   "execution_count": 1,
   "metadata": {
    "collapsed": true,
    "ExecuteTime": {
     "end_time": "2023-12-31T12:00:39.397052Z",
     "start_time": "2023-12-31T12:00:38.151609Z"
    }
   },
   "outputs": [
    {
     "name": "stdout",
     "output_type": "stream",
     "text": [
      "Ymmy, it's a carrot cake!\n",
      "Ymmy, it's a cheese cake!\n",
      "Ymmy, it's a chocolate cake!\n"
     ]
    }
   ],
   "source": [
    "val cakes = listOf(\"carrot\", \"cheese\", \"chocolate\")\n",
    "\n",
    "for (cake in cakes) {\n",
    "    println(\"Ymmy, it's a $cake cake!\")\n",
    "}"
   ]
  },
  {
   "cell_type": "markdown",
   "source": [
    "### while"
   ],
   "metadata": {
    "collapsed": false
   }
  },
  {
   "cell_type": "code",
   "outputs": [
    {
     "name": "stdout",
     "output_type": "stream",
     "text": [
      "Eat a Cake\n",
      "Eat a Cake\n",
      "Eat a Cake\n",
      "Eat a Cake\n",
      "Eat a Cake\n",
      "Bake a Cake\n",
      "Bake a Cake\n",
      "Bake a Cake\n",
      "Bake a Cake\n",
      "Bake a Cake\n"
     ]
    }
   ],
   "source": [
    "fun eatACake() = println(\"Eat a Cake\")\n",
    "fun bakeACake() = println(\"Bake a Cake\")\n",
    "\n",
    "var cakesEaten = 0\n",
    "var cakesBaked = 0\n",
    "while (cakesEaten < 5) {\n",
    "    eatACake()\n",
    "    cakesEaten++\n",
    "}\n",
    "do {\n",
    "    bakeACake()\n",
    "    cakesBaked++\n",
    "} while (cakesBaked < cakesEaten)"
   ],
   "metadata": {
    "collapsed": false,
    "ExecuteTime": {
     "end_time": "2023-12-31T12:07:50.640581Z",
     "start_time": "2023-12-31T12:07:49.667018Z"
    }
   },
   "execution_count": 2
  },
  {
   "cell_type": "markdown",
   "source": [
    "### Iterator"
   ],
   "metadata": {
    "collapsed": false
   }
  },
  {
   "cell_type": "code",
   "outputs": [
    {
     "name": "stdout",
     "output_type": "stream",
     "text": [
      "Watch out, it's a zebra!\n",
      "Watch out, it's a lion!\n"
     ]
    }
   ],
   "source": [
    "class Animal(val name: String)\n",
    "\n",
    "class Zoo(val animals: List<Animal>) {\n",
    "    operator fun iterator(): Iterator<Animal> {\n",
    "        return animals.iterator()\n",
    "    }\n",
    "}\n",
    "\n",
    "val zoo = Zoo(listOf(Animal(\"zebra\"), Animal(\"lion\")))\n",
    "\n",
    "for (animal in zoo) {\n",
    "    println(\"Watch out, it's a ${animal.name}!\")\n",
    "}"
   ],
   "metadata": {
    "collapsed": false,
    "ExecuteTime": {
     "end_time": "2023-12-31T12:11:06.568473Z",
     "start_time": "2023-12-31T12:11:05.673889Z"
    }
   },
   "execution_count": 3
  }
 ],
 "metadata": {
  "kernelspec": {
   "display_name": "Kotlin",
   "language": "kotlin",
   "name": "kotlin"
  },
  "language_info": {
   "name": "kotlin",
   "version": "1.9.0",
   "mimetype": "text/x-kotlin",
   "file_extension": ".kt",
   "pygments_lexer": "kotlin",
   "codemirror_mode": "text/x-kotlin",
   "nbconvert_exporter": ""
  }
 },
 "nbformat": 4,
 "nbformat_minor": 0
}
