{
 "cells": [
  {
   "cell_type": "markdown",
   "source": [
    "# Control Flow\n",
    "## When Statement\n"
   ],
   "metadata": {
    "collapsed": false
   }
  },
  {
   "cell_type": "code",
   "execution_count": 5,
   "metadata": {
    "collapsed": true,
    "ExecuteTime": {
     "end_time": "2023-12-31T09:05:52.152943Z",
     "start_time": "2023-12-31T09:05:50.731930Z"
    }
   },
   "outputs": [
    {
     "name": "stdout",
     "output_type": "stream",
     "text": [
      "Greeting\n",
      "One\n",
      "Long\n",
      "Not a string\n",
      "Unknown\n"
     ]
    }
   ],
   "source": [
    "cases(\"Hello\")\n",
    "cases(1)\n",
    "cases(0L)\n",
    "cases(MyClass())\n",
    "cases(\"hello\")\n",
    "\n",
    "fun cases(obj: Any) {\n",
    "    when (obj) {\n",
    "        1 -> println(\"One\")\n",
    "        \"Hello\" -> println(\"Greeting\")\n",
    "        is Long -> println(\"Long\")\n",
    "        !is String -> println(\"Not a string\")\n",
    "        else -> println(\"Unknown\")\n",
    "    }\n",
    "}\n",
    "class MyClass"
   ]
  },
  {
   "cell_type": "code",
   "outputs": [
    {
     "name": "stdout",
     "output_type": "stream",
     "text": [
      "Greeting\n",
      "Unknown\n",
      "One\n",
      "Unknown\n"
     ]
    }
   ],
   "source": [
    "println(whenAssign(\"Hello\"))\n",
    "println(whenAssign(3.4))\n",
    "println(whenAssign(1))\n",
    "println(whenAssign(MyClass()))\n",
    "\n",
    "fun whenAssign(obj: Any): Any {\n",
    "    val result = when (obj) {\n",
    "        1 -> \"One\"\n",
    "        \"Hello\" -> \"Greeting\"\n",
    "        is Long -> \"Long\"\n",
    "        else -> \"Unknown\"\n",
    "    }\n",
    "    return result\n",
    "}"
   ],
   "metadata": {
    "collapsed": false,
    "ExecuteTime": {
     "end_time": "2023-12-31T11:47:58.627387Z",
     "start_time": "2023-12-31T11:47:57.845555Z"
    }
   },
   "execution_count": 10
  }
 ],
 "metadata": {
  "kernelspec": {
   "display_name": "Kotlin",
   "language": "kotlin",
   "name": "kotlin"
  },
  "language_info": {
   "name": "kotlin",
   "version": "1.9.0",
   "mimetype": "text/x-kotlin",
   "file_extension": ".kt",
   "pygments_lexer": "kotlin",
   "codemirror_mode": "text/x-kotlin",
   "nbconvert_exporter": ""
  }
 },
 "nbformat": 4,
 "nbformat_minor": 0
}
