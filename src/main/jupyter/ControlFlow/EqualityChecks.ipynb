{
 "cells": [
  {
   "cell_type": "markdown",
   "source": [
    "## Equality Checks\n",
    "\n",
    "https://play.kotlinlang.org/byExample/02_control_flow/04_Equality%20Checks"
   ],
   "metadata": {
    "collapsed": false
   }
  },
  {
   "cell_type": "code",
   "execution_count": 2,
   "metadata": {
    "collapsed": true,
    "ExecuteTime": {
     "end_time": "2023-12-31T23:43:55.902439Z",
     "start_time": "2023-12-31T23:43:54.576455Z"
    }
   },
   "outputs": [
    {
     "name": "stdout",
     "output_type": "stream",
     "text": [
      "true\n",
      "false\n"
     ]
    }
   ],
   "source": [
    "val authors = setOf(\"Shakespeare\", \"Hemingway\", \"Twain\")\n",
    "val writers = setOf(\"Twain\", \"Shakespeare\", \"Hemingway\")\n",
    "println(authors == writers)\n",
    "println(authors === writers)"
   ]
  }
 ],
 "metadata": {
  "kernelspec": {
   "display_name": "Kotlin",
   "language": "kotlin",
   "name": "kotlin"
  },
  "language_info": {
   "name": "kotlin",
   "version": "1.9.0",
   "mimetype": "text/x-kotlin",
   "file_extension": ".kt",
   "pygments_lexer": "kotlin",
   "codemirror_mode": "text/x-kotlin",
   "nbconvert_exporter": ""
  }
 },
 "nbformat": 4,
 "nbformat_minor": 0
}
