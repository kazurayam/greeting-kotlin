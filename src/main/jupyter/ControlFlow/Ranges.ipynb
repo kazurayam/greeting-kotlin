{
 "cells": [
  {
   "cell_type": "markdown",
   "source": [
    "## Ranges"
   ],
   "metadata": {
    "collapsed": false
   }
  },
  {
   "cell_type": "code",
   "execution_count": 1,
   "metadata": {
    "collapsed": true,
    "ExecuteTime": {
     "end_time": "2023-12-31T23:33:04.693689Z",
     "start_time": "2023-12-31T23:33:03.782112Z"
    }
   },
   "outputs": [
    {
     "name": "stdout",
     "output_type": "stream",
     "text": [
      "0123"
     ]
    }
   ],
   "source": [
    "for (i in 0..3) {\n",
    "    print(i)\n",
    "}"
   ]
  },
  {
   "cell_type": "code",
   "outputs": [
    {
     "name": "stdout",
     "output_type": "stream",
     "text": [
      "012"
     ]
    }
   ],
   "source": [
    "for (i in 0 until 3) {\n",
    "    print(i)\n",
    "}"
   ],
   "metadata": {
    "collapsed": false,
    "ExecuteTime": {
     "end_time": "2023-12-31T23:33:51.827964Z",
     "start_time": "2023-12-31T23:33:50.927088Z"
    }
   },
   "execution_count": 2
  },
  {
   "cell_type": "code",
   "outputs": [
    {
     "name": "stdout",
     "output_type": "stream",
     "text": [
      "2468"
     ]
    }
   ],
   "source": [
    "for (i in 2..8 step 2) {\n",
    "    print(i)\n",
    "}"
   ],
   "metadata": {
    "collapsed": false,
    "ExecuteTime": {
     "end_time": "2023-12-31T23:34:25.645382Z",
     "start_time": "2023-12-31T23:34:24.859216Z"
    }
   },
   "execution_count": 4
  },
  {
   "cell_type": "code",
   "outputs": [
    {
     "name": "stdout",
     "output_type": "stream",
     "text": [
      "3210"
     ]
    }
   ],
   "source": [
    "for (i in 3 downTo 0) {\n",
    "    print(i)\n",
    "}"
   ],
   "metadata": {
    "collapsed": false,
    "ExecuteTime": {
     "end_time": "2023-12-31T23:34:53.540712Z",
     "start_time": "2023-12-31T23:34:53.234072Z"
    }
   },
   "execution_count": 5
  },
  {
   "cell_type": "code",
   "outputs": [
    {
     "name": "stdout",
     "output_type": "stream",
     "text": [
      "abcd"
     ]
    }
   ],
   "source": [
    "for (c in 'a'..'d') {\n",
    "    print(c)\n",
    "}"
   ],
   "metadata": {
    "collapsed": false,
    "ExecuteTime": {
     "end_time": "2023-12-31T23:37:57.253867Z",
     "start_time": "2023-12-31T23:37:56.345317Z"
    }
   },
   "execution_count": 6
  },
  {
   "cell_type": "code",
   "outputs": [
    {
     "name": "stdout",
     "output_type": "stream",
     "text": [
      "zxvt"
     ]
    }
   ],
   "source": [
    "for (c in 'z' downTo 's' step 2) {\n",
    "    print(c)\n",
    "}"
   ],
   "metadata": {
    "collapsed": false,
    "ExecuteTime": {
     "end_time": "2023-12-31T23:38:27.600327Z",
     "start_time": "2023-12-31T23:38:27.278432Z"
    }
   },
   "execution_count": 7
  },
  {
   "cell_type": "code",
   "outputs": [
    {
     "name": "stdout",
     "output_type": "stream",
     "text": [
      "x is in range from 1 to 5"
     ]
    }
   ],
   "source": [
    "val x = 2\n",
    "if (x in 1..5) {\n",
    "    print(\"x is in range from 1 to 5\")\n",
    "}"
   ],
   "metadata": {
    "collapsed": false,
    "ExecuteTime": {
     "end_time": "2023-12-31T23:39:11.181420Z",
     "start_time": "2023-12-31T23:39:10.593575Z"
    }
   },
   "execution_count": 8
  },
  {
   "cell_type": "code",
   "outputs": [
    {
     "name": "stdout",
     "output_type": "stream",
     "text": [
      "x is not in range from 6 to 10"
     ]
    }
   ],
   "source": [
    "if (x !in 6..10) {\n",
    "    print(\"x is not in range from 6 to 10\")\n",
    "}"
   ],
   "metadata": {
    "collapsed": false,
    "ExecuteTime": {
     "end_time": "2023-12-31T23:39:48.056241Z",
     "start_time": "2023-12-31T23:39:47.734838Z"
    }
   },
   "execution_count": 9
  }
 ],
 "metadata": {
  "kernelspec": {
   "display_name": "Kotlin",
   "language": "kotlin",
   "name": "kotlin"
  },
  "language_info": {
   "name": "kotlin",
   "version": "1.9.0",
   "mimetype": "text/x-kotlin",
   "file_extension": ".kt",
   "pygments_lexer": "kotlin",
   "codemirror_mode": "text/x-kotlin",
   "nbconvert_exporter": ""
  }
 },
 "nbformat": 4,
 "nbformat_minor": 0
}
