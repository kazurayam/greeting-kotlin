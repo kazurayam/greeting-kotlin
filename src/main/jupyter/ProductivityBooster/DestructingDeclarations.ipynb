{
 "cells": [
  {
   "cell_type": "markdown",
   "source": [
    "### Destructuring Declarations\n",
    "\n",
    "https://play.kotlinlang.org/byExample/08_productivity_boosters/03_Destructuring%20Declarations\n"
   ],
   "metadata": {
    "collapsed": false
   }
  },
  {
   "cell_type": "code",
   "execution_count": 2,
   "metadata": {
    "collapsed": true,
    "ExecuteTime": {
     "end_time": "2024-01-03T13:04:04.084308Z",
     "start_time": "2024-01-03T13:04:02.677143Z"
    }
   },
   "outputs": [
    {
     "name": "stderr",
     "output_type": "stream",
     "text": [
      "Line_2.jupyter.kts (7:18 - 28) Unresolved reference: findMinMax"
     ]
    }
   ],
   "source": [
    "val (x, y, z) = arrayOf(5, 10, 15)\n",
    "val map = mapOf(\"Alice\" to 21, \"Bob\" to 25)\n",
    "for ((name, age) in map) {\n",
    "    println(\"$name is $age years old\")\n",
    "}\n",
    "\n",
    "val (min, max) = findMinMax(listOf(100, 90, 50, 98, 76, 83))"
   ]
  },
  {
   "cell_type": "code",
   "outputs": [
    {
     "name": "stderr",
     "output_type": "stream",
     "text": [
      "Line_8.jupyter.kts (2:1 - 14) Platform declaration clash: The following declarations have the same JVM signature (getUser()LLine_8_jupyter$User;):\n",
      "    fun `<get-user>`(): Line_8_jupyter.User defined in Line_8_jupyter\n",
      "    fun getUser(): Line_8_jupyter.User defined in Line_8_jupyter\n",
      "Line_8.jupyter.kts (3:1 - 9) Platform declaration clash: The following declarations have the same JVM signature (getUser()LLine_8_jupyter$User;):\n",
      "    fun `<get-user>`(): Line_8_jupyter.User defined in Line_8_jupyter\n",
      "    fun getUser(): Line_8_jupyter.User defined in Line_8_jupyter"
     ]
    }
   ],
   "source": [
    "data class User(val username: String, val email: String)\n",
    "fun getUser() = User(\"Mary\", \"mary@somewhere.com\")\n",
    "val user = getUser()\n",
    "//val (username, email) = user\n",
    "//println(username == user.component1())\n",
    "//val (_, emailAddress) = getUser()\n",
    "//println(emailAddress)"
   ],
   "metadata": {
    "collapsed": false,
    "ExecuteTime": {
     "end_time": "2024-01-03T13:09:48.181652Z",
     "start_time": "2024-01-03T13:09:47.535663Z"
    }
   },
   "execution_count": 8
  },
  {
   "cell_type": "code",
   "outputs": [
    {
     "name": "stdout",
     "output_type": "stream",
     "text": [
      "num = 1, name = one\n"
     ]
    }
   ],
   "source": [
    "class Pair<K, V>(val first: K, val second: V) {\n",
    "    operator fun component1(): K {\n",
    "        return first\n",
    "    }\n",
    "    operator fun component2(): V {\n",
    "        return second\n",
    "    }\n",
    "}\n",
    "val (num, name) = Pair(1, \"one\")\n",
    "println(\"num = $num, name = $name\")"
   ],
   "metadata": {
    "collapsed": false,
    "ExecuteTime": {
     "end_time": "2024-01-03T13:13:57.037098Z",
     "start_time": "2024-01-03T13:13:55.561095Z"
    }
   },
   "execution_count": 9
  }
 ],
 "metadata": {
  "kernelspec": {
   "display_name": "Kotlin",
   "language": "kotlin",
   "name": "kotlin"
  },
  "language_info": {
   "name": "kotlin",
   "version": "1.9.0",
   "mimetype": "text/x-kotlin",
   "file_extension": ".kt",
   "pygments_lexer": "kotlin",
   "codemirror_mode": "text/x-kotlin",
   "nbconvert_exporter": ""
  }
 },
 "nbformat": 4,
 "nbformat_minor": 0
}
