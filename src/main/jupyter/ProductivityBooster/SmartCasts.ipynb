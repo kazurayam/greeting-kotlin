{
 "cells": [
  {
   "cell_type": "markdown",
   "source": [
    "### Smart Casts\n",
    "https://play.kotlinlang.org/byExample/08_productivity_boosters/04_Smart%20Casts"
   ],
   "metadata": {
    "collapsed": false
   }
  },
  {
   "cell_type": "code",
   "execution_count": 2,
   "metadata": {
    "collapsed": true,
    "ExecuteTime": {
     "end_time": "2024-01-03T13:17:35.926517Z",
     "start_time": "2024-01-03T13:17:34.544945Z"
    }
   },
   "outputs": [
    {
     "name": "stdout",
     "output_type": "stream",
     "text": [
      "true\n",
      "It's a leap year!\n"
     ]
    }
   ],
   "source": [
    "import java.time.chrono.ChronoLocalDate\n",
    "import java.time.LocalDate\n",
    "\n",
    "val date: ChronoLocalDate? = LocalDate.now()\n",
    "if (date != null) {\n",
    "    println(date.isLeapYear)\n",
    "}\n",
    "if (date != null && date.isLeapYear) {\n",
    "    println(\"It's a leap year!\");\n",
    "}"
   ]
  }
 ],
 "metadata": {
  "kernelspec": {
   "display_name": "Kotlin",
   "language": "kotlin",
   "name": "kotlin"
  },
  "language_info": {
   "name": "kotlin",
   "version": "1.9.0",
   "mimetype": "text/x-kotlin",
   "file_extension": ".kt",
   "pygments_lexer": "kotlin",
   "codemirror_mode": "text/x-kotlin",
   "nbconvert_exporter": ""
  }
 },
 "nbformat": 4,
 "nbformat_minor": 0
}
