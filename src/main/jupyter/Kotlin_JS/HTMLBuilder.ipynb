{
 "cells": [
  {
   "cell_type": "code",
   "execution_count": 1,
   "metadata": {
    "collapsed": true,
    "ExecuteTime": {
     "end_time": "2024-01-03T13:24:37.736691Z",
     "start_time": "2024-01-03T13:24:35.559744Z"
    }
   },
   "outputs": [
    {
     "name": "stderr",
     "output_type": "stream",
     "text": [
      "Line_1.jupyter.kts (1:14 - 18) Unresolved reference: html\n",
      "Line_1.jupyter.kts (2:5 - 9) Unresolved reference: head\n",
      "Line_1.jupyter.kts (3:9 - 14) Unresolved reference: title\n",
      "Line_1.jupyter.kts (3:17 - 18) Unresolved reference: +\n",
      "Line_1.jupyter.kts (5:5 - 9) Unresolved reference: body\n",
      "Line_1.jupyter.kts (6:9 - 11) Unresolved reference: h1\n",
      "Line_1.jupyter.kts (6:14 - 15) Unresolved reference: +\n",
      "Line_1.jupyter.kts (7:9 - 10) Unresolved reference: p\n",
      "Line_1.jupyter.kts (8:13 - 14) Unresolved reference: +\n",
      "Line_1.jupyter.kts (9:13 - 14) Unresolved reference: +\n",
      "Line_1.jupyter.kts (13:9 - 10) Unresolved reference: a\n",
      "Line_1.jupyter.kts (13:45 - 46) Unresolved reference: +\n",
      "Line_1.jupyter.kts (16:9 - 10) Unresolved reference: p\n",
      "Line_1.jupyter.kts (17:13 - 14) Unresolved reference: +\n",
      "Line_1.jupyter.kts (18:13 - 14) Unresolved reference: b\n",
      "Line_1.jupyter.kts (18:17 - 18) Unresolved reference: +\n",
      "Line_1.jupyter.kts (19:13 - 14) Unresolved reference: +\n",
      "Line_1.jupyter.kts (20:13 - 14) Unresolved reference: a\n",
      "Line_1.jupyter.kts (21:17 - 18) Unresolved reference: +\n",
      "Line_1.jupyter.kts (23:13 - 14) Unresolved reference: +\n",
      "Line_1.jupyter.kts (25:9 - 10) Unresolved reference: p\n",
      "Line_1.jupyter.kts (26:13 - 14) Unresolved reference: +\n",
      "Line_1.jupyter.kts (27:13 - 15) Unresolved reference: ul\n",
      "Line_1.jupyter.kts (29:17 - 19) Unresolved reference: li\n",
      "Line_1.jupyter.kts (29:22 - 23) Unresolved reference: +\n",
      "Line_1.jupyter.kts (34:1 - 8) Overload resolution ambiguity: \n",
      "public inline fun println(message: Any?): Unit defined in kotlin.io\n",
      "public inline fun println(message: Boolean): Unit defined in kotlin.io\n",
      "public inline fun println(message: Byte): Unit defined in kotlin.io\n",
      "public inline fun println(message: Char): Unit defined in kotlin.io\n",
      "public inline fun println(message: CharArray): Unit defined in kotlin.io\n",
      "public inline fun println(message: Double): Unit defined in kotlin.io\n",
      "public inline fun println(message: Float): Unit defined in kotlin.io\n",
      "public inline fun println(message: Int): Unit defined in kotlin.io\n",
      "public inline fun println(message: Long): Unit defined in kotlin.io\n",
      "public inline fun println(message: Short): Unit defined in kotlin.io"
     ]
    }
   ],
   "source": [
    "val result = html {                                            // 1\n",
    "    head {                                                     // 2\n",
    "        title { +\"HTML encoding with Kotlin\" }\n",
    "    }\n",
    "    body {                                                     // 2\n",
    "        h1 { +\"HTML encoding with Kotlin\" }\n",
    "        p {\n",
    "            +\"this format can be used as an\"                   // 3\n",
    "            +\"alternative markup to HTML\"                      // 3\n",
    "        }\n",
    "\n",
    "        // an element with attributes and text content\n",
    "        a(href = \"http://kotlinlang.org\") { +\"Kotlin\" }\n",
    "\n",
    "        // mixed content\n",
    "        p {\n",
    "            +\"This is some\"\n",
    "            b { +\"mixed\" }\n",
    "            +\"text. For more see the\"\n",
    "            a(href = \"http://kotlinlang.org\") {\n",
    "                +\"Kotlin\"\n",
    "            }\n",
    "            +\"project\"\n",
    "        }\n",
    "        p {\n",
    "            +\"some text\"\n",
    "            ul {\n",
    "                for (i in 1..5)\n",
    "                li { +\"${i}*2 = ${i*2}\" }\n",
    "            }\n",
    "        }\n",
    "    }\n",
    "}\n",
    "println(result)"
   ]
  }
 ],
 "metadata": {
  "kernelspec": {
   "display_name": "Kotlin",
   "language": "kotlin",
   "name": "kotlin"
  },
  "language_info": {
   "name": "kotlin",
   "version": "1.9.0",
   "mimetype": "text/x-kotlin",
   "file_extension": ".kt",
   "pygments_lexer": "kotlin",
   "codemirror_mode": "text/x-kotlin",
   "nbconvert_exporter": ""
  }
 },
 "nbformat": 4,
 "nbformat_minor": 0
}
