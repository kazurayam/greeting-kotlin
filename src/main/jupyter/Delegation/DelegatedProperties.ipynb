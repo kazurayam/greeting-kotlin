{
 "cells": [
  {
   "cell_type": "markdown",
   "source": [
    "### Delegated Properties"
   ],
   "metadata": {
    "collapsed": false
   }
  },
  {
   "cell_type": "code",
   "execution_count": 2,
   "metadata": {
    "collapsed": true,
    "ExecuteTime": {
     "end_time": "2024-01-03T12:19:54.857869Z",
     "start_time": "2024-01-03T12:19:51.266260Z"
    }
   },
   "outputs": [
    {
     "name": "stdout",
     "output_type": "stream",
     "text": [
      "Example Class, thank you for delegating 'p' to me!\n",
      "NEW has been assigned to p in Example Class\n"
     ]
    }
   ],
   "source": [
    "import kotlin.reflect.KProperty\n",
    "\n",
    "class Example {\n",
    "    var p: String by Delegate()\n",
    "    override fun toString() = \"Example Class\"\n",
    "}\n",
    "\n",
    "class Delegate() {\n",
    "    operator fun getValue(thisRef: Any?, prop: KProperty<*>): String {\n",
    "        return \"$thisRef, thank you for delegating '${prop.name}' to me!\"\n",
    "    }\n",
    "    operator fun setValue(thisRef: Any?, prop: KProperty<*>, value: String) {\n",
    "        println(\"$value has been assigned to ${prop.name} in $thisRef\")\n",
    "    }\n",
    "}\n",
    "\n",
    "val e = Example()\n",
    "println(e.p)\n",
    "e.p = \"NEW\""
   ]
  },
  {
   "cell_type": "markdown",
   "source": [
    "#### Lazy"
   ],
   "metadata": {
    "collapsed": false
   }
  },
  {
   "cell_type": "code",
   "outputs": [
    {
     "name": "stdout",
     "output_type": "stream",
     "text": [
      "created!\n",
      "computed\n",
      "lazyStr = my lazy\n",
      " = my lazy\n"
     ]
    }
   ],
   "source": [
    "class LazySample {\n",
    "    init {\n",
    "        println(\"created!\")\n",
    "    }\n",
    "    val lazyStr: String by lazy {\n",
    "        println(\"computed\")\n",
    "        \"my lazy\"\n",
    "    }\n",
    "}\n",
    "val sample = LazySample()\n",
    "println(\"lazyStr = ${sample.lazyStr}\")\n",
    "println(\" = ${sample.lazyStr}\")"
   ],
   "metadata": {
    "collapsed": false,
    "ExecuteTime": {
     "end_time": "2024-01-03T12:23:25.693263Z",
     "start_time": "2024-01-03T12:23:16.967027Z"
    }
   },
   "execution_count": 3
  },
  {
   "cell_type": "code",
   "outputs": [],
   "source": [],
   "metadata": {
    "collapsed": false
   }
  },
  {
   "cell_type": "markdown",
   "source": [
    "#### Storing Properties in a Map"
   ],
   "metadata": {
    "collapsed": false
   }
  },
  {
   "cell_type": "code",
   "outputs": [
    {
     "name": "stdout",
     "output_type": "stream",
     "text": [
      "name = John Doe, age =25\n"
     ]
    }
   ],
   "source": [
    "class User(val map: Map<String, Any?>) {\n",
    "    val name: String by map\n",
    "    val age: Int by map\n",
    "}\n",
    "val user = User(mapOf(\n",
    "    \"name\" to \"John Doe\",\n",
    "    \"age\" to 25\n",
    "))\n",
    "println(\"name = ${user.name}, age =${user.age}\")"
   ],
   "metadata": {
    "collapsed": false,
    "ExecuteTime": {
     "end_time": "2024-01-03T12:29:12.642717Z",
     "start_time": "2024-01-03T12:29:06.319464Z"
    }
   },
   "execution_count": 5
  }
 ],
 "metadata": {
  "kernelspec": {
   "display_name": "Kotlin",
   "language": "kotlin",
   "name": "kotlin"
  },
  "language_info": {
   "name": "kotlin",
   "version": "1.9.0",
   "mimetype": "text/x-kotlin",
   "file_extension": ".kt",
   "pygments_lexer": "kotlin",
   "codemirror_mode": "text/x-kotlin",
   "nbconvert_exporter": ""
  }
 },
 "nbformat": 4,
 "nbformat_minor": 0
}
