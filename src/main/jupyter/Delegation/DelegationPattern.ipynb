{
 "cells": [
  {
   "cell_type": "markdown",
   "source": [
    "### Delegation Pattern\n",
    "https://play.kotlinlang.org/byExample/07_Delegation/01_delegationPattern"
   ],
   "metadata": {
    "collapsed": false
   }
  },
  {
   "cell_type": "code",
   "execution_count": 4,
   "metadata": {
    "collapsed": true,
    "ExecuteTime": {
     "end_time": "2024-01-03T02:47:09.966951Z",
     "start_time": "2024-01-03T02:47:09.192064Z"
    }
   },
   "outputs": [
    {
     "name": "stdout",
     "output_type": "stream",
     "text": [
      "THRASH METAL !!!\n",
      "I'm The King of Rock 'N' Roll: Dancin' to the Jailhouse Rock.\n"
     ]
    }
   ],
   "source": [
    "interface SoundBehavior {\n",
    "    fun makeSound()\n",
    "}\n",
    "class ScreamBehavior(val n:String): SoundBehavior {\n",
    "    override fun makeSound() = println(\"${n.uppercase()} !!!\")\n",
    "}\n",
    "class RockAndRollBehavior(val n:String): SoundBehavior {\n",
    "    override fun makeSound() = println(\"I'm The King of Rock 'N' Roll: $n\")\n",
    "}\n",
    "class TomAraya(n:String): SoundBehavior by ScreamBehavior(n)\n",
    "class ElvisPresley(n:String): SoundBehavior by RockAndRollBehavior(n)\n",
    "\n",
    "val tom = TomAraya(\"Thrash Metal\")\n",
    "tom.makeSound()\n",
    "\n",
    "val envis = ElvisPresley(\"Dancin' to the Jailhouse Rock.\")\n",
    "envis.makeSound()"
   ]
  }
 ],
 "metadata": {
  "kernelspec": {
   "display_name": "Kotlin",
   "language": "kotlin",
   "name": "kotlin"
  },
  "language_info": {
   "name": "kotlin",
   "version": "1.9.0",
   "mimetype": "text/x-kotlin",
   "file_extension": ".kt",
   "pygments_lexer": "kotlin",
   "codemirror_mode": "text/x-kotlin",
   "nbconvert_exporter": ""
  }
 },
 "nbformat": 4,
 "nbformat_minor": 0
}
