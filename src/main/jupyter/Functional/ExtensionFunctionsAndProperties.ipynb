{
 "cells": [
  {
   "cell_type": "markdown",
   "source": [
    "## Extension Functions and Properties\n",
    "\n",
    "Kotlin lets you add new members to any class with the extensions mechanism. Namely, there are two types of extensions: extension functions and extension properties but with one important difference: you need to specify the type that you extends."
   ],
   "metadata": {
    "collapsed": false
   }
  },
  {
   "cell_type": "code",
   "execution_count": 5,
   "metadata": {
    "collapsed": true,
    "ExecuteTime": {
     "end_time": "2024-01-01T03:44:25.685798Z",
     "start_time": "2024-01-01T03:44:24.119587Z"
    }
   },
   "outputs": [
    {
     "name": "stdout",
     "output_type": "stream",
     "text": [
      "Max priced item name: Wine\n",
      "Max priced item value: 29.0\n",
      "Items: Bread, Wine, Water\n"
     ]
    }
   ],
   "source": [
    "data class Item(val name: String, val price: Float)\n",
    "data class Order(val items: Collection<Item>)\n",
    "\n",
    "// maxPricedItemValue() is an Extension Function to Order object\n",
    "fun Order.maxPricedItemValue(): Float = \n",
    "    this.items.maxByOrNull { it.price }?.price ?: 0F\n",
    "\n",
    "fun Order.maxPricedItemName() =\n",
    "    this.items.maxByOrNull { it.price }?.name ?: \"NO_PRODUCTS\"\n",
    "\n",
    "val Order.commaDelimitedItemNames: String get() =\n",
    "    items.map { it.name }.joinToString()\n",
    "\n",
    "val order = Order(\n",
    "    listOf(Item(\"Bread\", 25.0F), \n",
    "        Item(\"Wine\", 29.0F), \n",
    "        Item(\"Water\", 12.0F))\n",
    ")\n",
    "\n",
    "println(\"Max priced item name: ${order.maxPricedItemName()}\");\n",
    "println(\"Max priced item value: ${order.maxPricedItemValue()}\")\n",
    "println(\"Items: ${order.commaDelimitedItemNames}\")"
   ]
  },
  {
   "cell_type": "code",
   "outputs": [],
   "source": [],
   "metadata": {
    "collapsed": false,
    "ExecuteTime": {
     "end_time": "2024-01-01T03:38:03.867308Z",
     "start_time": "2024-01-01T03:38:03.852562Z"
    }
   },
   "execution_count": 1
  }
 ],
 "metadata": {
  "kernelspec": {
   "display_name": "Kotlin",
   "language": "kotlin",
   "name": "kotlin"
  },
  "language_info": {
   "name": "kotlin",
   "version": "1.9.0",
   "mimetype": "text/x-kotlin",
   "file_extension": ".kt",
   "pygments_lexer": "kotlin",
   "codemirror_mode": "text/x-kotlin",
   "nbconvert_exporter": ""
  }
 },
 "nbformat": 4,
 "nbformat_minor": 0
}
