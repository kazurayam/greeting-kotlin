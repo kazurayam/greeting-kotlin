{
 "cells": [
  {
   "cell_type": "markdown",
   "source": [
    "## Functions\n",
    "### Higher-Order Functions\n",
    "\n",
    "A higher-order function is a function that takes another function as parameter and/or returns a function"
   ],
   "metadata": {
    "collapsed": false
   }
  },
  {
   "cell_type": "code",
   "execution_count": 3,
   "metadata": {
    "collapsed": true,
    "ExecuteTime": {
     "end_time": "2024-01-01T03:09:48.925526Z",
     "start_time": "2024-01-01T03:09:47.706036Z"
    }
   },
   "outputs": [
    {
     "name": "stdout",
     "output_type": "stream",
     "text": [
      "sumResult: 9\n",
      "mulResult: 20\n"
     ]
    }
   ],
   "source": [
    "fun calculate(x: Int, y: Int, operation: (Int, Int) -> Int): Int {\n",
    "    return operation(x, y)\n",
    "}\n",
    "\n",
    "fun sum(x: Int, y: Int) = x + y\n",
    "\n",
    "val sumResult = calculate(4, 5, ::sum)\n",
    "println(\"sumResult: $sumResult\")\n",
    "\n",
    "val mulResult = calculate(4, 5, { a, b -> a * b })\n",
    "println(\"mulResult: $mulResult\")"
   ]
  },
  {
   "cell_type": "markdown",
   "source": [
    "#### Returning Functions"
   ],
   "metadata": {
    "collapsed": false
   }
  },
  {
   "cell_type": "code",
   "outputs": [
    {
     "name": "stdout",
     "output_type": "stream",
     "text": [
      "4\n"
     ]
    }
   ],
   "source": [
    "fun operation(): (Int) -> Int {\n",
    "    return ::square\n",
    "}\n",
    "fun square(x: Int): Int = x * x\n",
    "\n",
    "println(operation()(2))"
   ],
   "metadata": {
    "collapsed": false,
    "ExecuteTime": {
     "end_time": "2024-01-01T03:12:44.816905Z",
     "start_time": "2024-01-01T03:12:44.039019Z"
    }
   },
   "execution_count": 4
  },
  {
   "cell_type": "markdown",
   "source": [],
   "metadata": {
    "collapsed": false
   }
  }
 ],
 "metadata": {
  "kernelspec": {
   "display_name": "Kotlin",
   "language": "kotlin",
   "name": "kotlin"
  },
  "language_info": {
   "name": "kotlin",
   "version": "1.9.0",
   "mimetype": "text/x-kotlin",
   "file_extension": ".kt",
   "pygments_lexer": "kotlin",
   "codemirror_mode": "text/x-kotlin",
   "nbconvert_exporter": ""
  }
 },
 "nbformat": 4,
 "nbformat_minor": 0
}
