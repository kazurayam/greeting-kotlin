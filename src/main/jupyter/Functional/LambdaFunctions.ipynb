{
 "cells": [
  {
   "cell_type": "markdown",
   "source": [
    "## Lambda Functions\n",
    "\n",
    "Lambda functions are a simple way to create functions ad-hoc. Lambdas can be denoted very concisely in many cases thanks to type inference and the implicit `it` variable."
   ],
   "metadata": {
    "collapsed": false
   }
  },
  {
   "cell_type": "code",
   "execution_count": 1,
   "metadata": {
    "collapsed": true,
    "ExecuteTime": {
     "end_time": "2024-01-01T03:26:19.990819Z",
     "start_time": "2024-01-01T03:26:17.487722Z"
    }
   },
   "outputs": [
    {
     "name": "stdout",
     "output_type": "stream",
     "text": [
      "HELLO\n",
      "HELLO\n",
      "HELLO\n",
      "HELLO\n",
      "HELLO\n"
     ]
    }
   ],
   "source": [
    "val upperCase1: (String) -> String = { str: String -> str.uppercase() }\n",
    "val upperCase2: (String) -> String = { str -> str.uppercase() }\n",
    "val upperCase3 = { str: String -> str.uppercase() }\n",
    "\n",
    "//val upperCase4 = { str -> str.uppercase() }\n",
    "\n",
    "val upperCase5: (String) -> String = { it.uppercase() }\n",
    "val upperCase6: (String) -> String = String::uppercase\n",
    "\n",
    "println(upperCase1(\"hello\"))\n",
    "println(upperCase2(\"hello\"))\n",
    "println(upperCase3(\"hello\"))\n",
    "println(upperCase5(\"hello\"))\n",
    "println(upperCase6(\"hello\"))"
   ]
  }
 ],
 "metadata": {
  "kernelspec": {
   "display_name": "Kotlin",
   "language": "kotlin",
   "name": "kotlin"
  },
  "language_info": {
   "name": "kotlin",
   "version": "1.9.0",
   "mimetype": "text/x-kotlin",
   "file_extension": ".kt",
   "pygments_lexer": "kotlin",
   "codemirror_mode": "text/x-kotlin",
   "nbconvert_exporter": ""
  }
 },
 "nbformat": 4,
 "nbformat_minor": 0
}
