{
 "cells": [
  {
   "cell_type": "markdown",
   "source": [
    "## map\n",
    "\n",
    "https://play.kotlinlang.org/byExample/05_Collections/04_map\n"
   ],
   "metadata": {
    "collapsed": false
   }
  },
  {
   "cell_type": "code",
   "execution_count": 1,
   "metadata": {
    "collapsed": true,
    "ExecuteTime": {
     "end_time": "2024-01-01T11:07:26.282427Z",
     "start_time": "2024-01-01T11:07:24.150028Z"
    }
   },
   "outputs": [
    {
     "name": "stdout",
     "output_type": "stream",
     "text": [
      "[2, -4, 6, -8, 10, -12]\n",
      "[3, -6, 9, -12, 15, -18]\n"
     ]
    }
   ],
   "source": [
    "val numbers = listOf(1, -2, 3, -4, 5, -6)\n",
    "val doubled = numbers.map { x -> x * 2}\n",
    "println(doubled)\n",
    "val tripled = numbers.map { x -> x * 3}\n",
    "println(tripled)"
   ]
  }
 ],
 "metadata": {
  "kernelspec": {
   "display_name": "Kotlin",
   "language": "kotlin",
   "name": "kotlin"
  },
  "language_info": {
   "name": "kotlin",
   "version": "1.9.0",
   "mimetype": "text/x-kotlin",
   "file_extension": ".kt",
   "pygments_lexer": "kotlin",
   "codemirror_mode": "text/x-kotlin",
   "nbconvert_exporter": ""
  }
 },
 "nbformat": 4,
 "nbformat_minor": 0
}
