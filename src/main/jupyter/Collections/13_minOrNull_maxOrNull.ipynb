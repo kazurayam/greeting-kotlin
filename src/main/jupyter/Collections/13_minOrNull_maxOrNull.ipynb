{
 "cells": [
  {
   "cell_type": "markdown",
   "source": [
    "### minOrNull, maxOrNull\n",
    "https://play.kotlinlang.org/byExample/05_Collections/13_max"
   ],
   "metadata": {
    "collapsed": false
   }
  },
  {
   "cell_type": "code",
   "execution_count": 5,
   "metadata": {
    "collapsed": true,
    "ExecuteTime": {
     "end_time": "2024-01-03T00:57:01.674668Z",
     "start_time": "2024-01-03T00:57:00.740081Z"
    }
   },
   "outputs": [
    {
     "name": "stdout",
     "output_type": "stream",
     "text": [
      "numbers: [1, 2, 3], min = 1, max = 3\n",
      "empty: [], min = null, max = null\n",
      "only: [3], min = 3, max = 3\n"
     ]
    }
   ],
   "source": [
    "val numbers = listOf(1, 2, 3)\n",
    "val empty = emptyList<Int>()\n",
    "val only = listOf(3)\n",
    "println(\"numbers: $numbers, min = ${numbers.minOrNull()}, max = ${numbers.maxOrNull()}\")\n",
    "println(\"empty: $empty, min = ${empty.minOrNull()}, max = ${empty.maxOrNull()}\")\n",
    "println(\"only: $only, min = ${only.minOrNull()}, max = ${only.maxOrNull()}\")"
   ]
  }
 ],
 "metadata": {
  "kernelspec": {
   "display_name": "Kotlin",
   "language": "kotlin",
   "name": "kotlin"
  },
  "language_info": {
   "name": "kotlin",
   "version": "1.9.0",
   "mimetype": "text/x-kotlin",
   "file_extension": ".kt",
   "pygments_lexer": "kotlin",
   "codemirror_mode": "text/x-kotlin",
   "nbconvert_exporter": ""
  }
 },
 "nbformat": 4,
 "nbformat_minor": 0
}
