{
 "cells": [
  {
   "cell_type": "markdown",
   "source": [
    "### sorted\n",
    "https://play.kotlinlang.org/byExample/05_Collections/14_sorted"
   ],
   "metadata": {
    "collapsed": false
   }
  },
  {
   "cell_type": "code",
   "execution_count": 6,
   "metadata": {
    "collapsed": true,
    "ExecuteTime": {
     "end_time": "2024-01-03T01:00:43.689042Z",
     "start_time": "2024-01-03T01:00:42.349883Z"
    }
   },
   "outputs": [
    {
     "name": "stdout",
     "output_type": "stream",
     "text": [
      "[-10, 1, 2, 3, 4, 5]\n",
      "[5, 4, 3, 2, 1, -10]\n",
      "[5, 4, 3, 2, 1, -10]\n",
      "[-10, 5, 4, 3, 2, 1]\n"
     ]
    }
   ],
   "source": [
    "val shuffled = listOf(5, 4, 2, 1, 3, -10)\n",
    "val natual = shuffled.sorted()\n",
    "println(natual)\n",
    "val inverted = shuffled.sortedBy { - it }\n",
    "println(inverted)\n",
    "val descending = shuffled.sortedDescending()\n",
    "println(descending)\n",
    "val descendingBy = shuffled.sortedByDescending { abs(it) }\n",
    "println(descendingBy)"
   ]
  }
 ],
 "metadata": {
  "kernelspec": {
   "display_name": "Kotlin",
   "language": "kotlin",
   "name": "kotlin"
  },
  "language_info": {
   "name": "kotlin",
   "version": "1.9.0",
   "mimetype": "text/x-kotlin",
   "file_extension": ".kt",
   "pygments_lexer": "kotlin",
   "codemirror_mode": "text/x-kotlin",
   "nbconvert_exporter": ""
  }
 },
 "nbformat": 4,
 "nbformat_minor": 0
}
