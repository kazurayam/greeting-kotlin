{
 "cells": [
  {
   "cell_type": "markdown",
   "source": [
    "### associateBy, groupBy\n",
    "https://play.kotlinlang.org/byExample/05_Collections/10_associateBy"
   ],
   "metadata": {
    "collapsed": false
   }
  },
  {
   "cell_type": "code",
   "execution_count": 1,
   "metadata": {
    "collapsed": true,
    "ExecuteTime": {
     "end_time": "2024-01-03T00:39:31.201262Z",
     "start_time": "2024-01-03T00:39:28.338833Z"
    }
   },
   "outputs": [
    {
     "name": "stdout",
     "output_type": "stream",
     "text": [
      "{\"+1-888-123456\":{\"phone\":\"+1-888-123456\",\"city\":\"Boston\",\"name\":\"John\"},\"+49-777-789123\":{\"phone\":\"+49-777-789123\",\"city\":\"Munich\",\"name\":\"Sarah\"},\"+7-999-123456\":{\"phone\":\"+7-999-123456\",\"city\":\"Saint-Petersburg\",\"name\":\"Vasilisa\"},\"+7-999-456789\":{\"phone\":\"+7-999-456789\",\"city\":\"Saint-Petersburg\",\"name\":\"Svyatoslav\"}}\n"
     ]
    }
   ],
   "source": [
    "import org.json.JSONObject;\n",
    "data class Person(val name: String, val city: String, val phone: String)\n",
    "val people = listOf(                                      \n",
    "    Person(\"John\", \"Boston\", \"+1-888-123456\"),\n",
    "    Person(\"Sarah\", \"Munich\", \"+49-777-789123\"),\n",
    "    Person(\"Svyatoslav\", \"Saint-Petersburg\", \"+7-999-456789\"),\n",
    "    Person(\"Vasilisa\", \"Saint-Petersburg\", \"+7-999-123456\"))\n",
    "val phoneBook = people.associateBy { it.phone }\n",
    "println(JSONObject(phoneBook).toString())"
   ]
  }
 ],
 "metadata": {
  "kernelspec": {
   "display_name": "Kotlin",
   "language": "kotlin",
   "name": "kotlin"
  },
  "language_info": {
   "name": "kotlin",
   "version": "1.9.0",
   "mimetype": "text/x-kotlin",
   "file_extension": ".kt",
   "pygments_lexer": "kotlin",
   "codemirror_mode": "text/x-kotlin",
   "nbconvert_exporter": ""
  }
 },
 "nbformat": 4,
 "nbformat_minor": 0
}
