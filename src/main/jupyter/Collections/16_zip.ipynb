{
 "cells": [
  {
   "cell_type": "markdown",
   "source": [
    "### zip\n",
    "https://play.kotlinlang.org/byExample/05_Collections/16_zip"
   ],
   "metadata": {
    "collapsed": false
   }
  },
  {
   "cell_type": "code",
   "execution_count": 7,
   "metadata": {
    "collapsed": true,
    "ExecuteTime": {
     "end_time": "2024-01-03T01:16:04.493440Z",
     "start_time": "2024-01-03T01:16:03.381940Z"
    }
   },
   "outputs": [
    {
     "name": "stdout",
     "output_type": "stream",
     "text": [
      "[(a, 1), (b, 2), (c, 3)]\n",
      "[a1, b2, c3]\n"
     ]
    }
   ],
   "source": [
    "val A = listOf(\"a\", \"b\", \"c\")\n",
    "val B = listOf(1, 2, 3, 4)\n",
    "val resultPairs = A zip B\n",
    "println(resultPairs)\n",
    "val resultReduce = A.zip(B) { a,b -> \"$a$b\" }\n",
    "println(resultReduce)"
   ]
  }
 ],
 "metadata": {
  "kernelspec": {
   "display_name": "Kotlin",
   "language": "kotlin",
   "name": "kotlin"
  },
  "language_info": {
   "name": "kotlin",
   "version": "1.9.0",
   "mimetype": "text/x-kotlin",
   "file_extension": ".kt",
   "pygments_lexer": "kotlin",
   "codemirror_mode": "text/x-kotlin",
   "nbconvert_exporter": ""
  }
 },
 "nbformat": 4,
 "nbformat_minor": 0
}
