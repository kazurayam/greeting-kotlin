{
 "cells": [
  {
   "cell_type": "markdown",
   "source": [
    "## any, all, none\n",
    "\n",
    "https://play.kotlinlang.org/byExample/05_Collections/05_existential"
   ],
   "metadata": {
    "collapsed": false
   }
  },
  {
   "cell_type": "code",
   "execution_count": 2,
   "metadata": {
    "collapsed": true,
    "ExecuteTime": {
     "end_time": "2024-01-01T11:10:59.228950Z",
     "start_time": "2024-01-01T11:10:57.133175Z"
    }
   },
   "outputs": [
    {
     "name": "stdout",
     "output_type": "stream",
     "text": [
      "anyNegative: true\n",
      "anyGT6: false\n"
     ]
    }
   ],
   "source": [
    "val numbers = listOf(1, -2, 3, -4, 5, -6)\n",
    "val anyNegative = numbers.any { it < 0 }\n",
    "val anyGT6 = numbers.any { it > 6 }\n",
    "println(\"anyNegative: ${anyNegative}\")\n",
    "println(\"anyGT6: ${anyGT6}\")"
   ]
  },
  {
   "cell_type": "code",
   "outputs": [
    {
     "name": "stdout",
     "output_type": "stream",
     "text": [
      "allEven: false\n",
      "allLess6: true\n"
     ]
    }
   ],
   "source": [
    "val numbers = listOf(1, -2, 3, -4, 5, -6)\n",
    "val allEven = numbers.all { it % 2 == 0 }\n",
    "val allLess6 = numbers.all { it < 6 }\n",
    "println(\"allEven: ${allEven}\");\n",
    "println(\"allLess6: ${allLess6}\")"
   ],
   "metadata": {
    "collapsed": false,
    "ExecuteTime": {
     "end_time": "2024-01-01T11:12:32.110866Z",
     "start_time": "2024-01-01T11:12:30.870269Z"
    }
   },
   "execution_count": 3
  },
  {
   "cell_type": "code",
   "outputs": [
    {
     "name": "stdout",
     "output_type": "stream",
     "text": [
      "allEven: false\n",
      "allLess6: true\n"
     ]
    }
   ],
   "source": [
    "val numbers = listOf(1, -2, 3, -4, 5, -6)\n",
    "val allEven = numbers.none { it % 2 == 1 }\n",
    "val allLess6 = numbers.none { it > 6 }\n",
    "println(\"allEven: ${allEven}\");\n",
    "println(\"allLess6: ${allLess6}\")"
   ],
   "metadata": {
    "collapsed": false,
    "ExecuteTime": {
     "end_time": "2024-01-01T11:13:57.365081Z",
     "start_time": "2024-01-01T11:13:56.519136Z"
    }
   },
   "execution_count": 4
  }
 ],
 "metadata": {
  "kernelspec": {
   "display_name": "Kotlin",
   "language": "kotlin",
   "name": "kotlin"
  },
  "language_info": {
   "name": "kotlin",
   "version": "1.9.0",
   "mimetype": "text/x-kotlin",
   "file_extension": ".kt",
   "pygments_lexer": "kotlin",
   "codemirror_mode": "text/x-kotlin",
   "nbconvert_exporter": ""
  }
 },
 "nbformat": 4,
 "nbformat_minor": 0
}
