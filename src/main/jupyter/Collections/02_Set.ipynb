{
 "cells": [
  {
   "cell_type": "markdown",
   "source": [
    "## Set\n",
    "\n",
    "https://play.kotlinlang.org/byExample/05_Collections/02_Set"
   ],
   "metadata": {
    "collapsed": false
   }
  },
  {
   "cell_type": "code",
   "execution_count": 4,
   "metadata": {
    "collapsed": true,
    "ExecuteTime": {
     "end_time": "2024-01-01T10:37:46.966512Z",
     "start_time": "2024-01-01T10:37:45.487141Z"
    }
   },
   "outputs": [
    {
     "name": "stdout",
     "output_type": "stream",
     "text": [
      "Issue uniqueDescr4 registered correctly.\n",
      "Issue uniqueDescr2 marked as duplicate and rejected.\n"
     ]
    }
   ],
   "source": [
    "val openIssues: MutableSet<String> = mutableSetOf(\"uniqueDescr1\",\"uniqueDescr2\",\"uniqueDescr3\")\n",
    "\n",
    " fun addIssue(uniqueDesc: String): Boolean {\n",
    "     return openIssues.add(uniqueDesc)\n",
    " }\n",
    "\n",
    "fun getStatusLog(isAdded: Boolean): String {\n",
    "    return if (isAdded) \"registered correctly.\"\n",
    "    else \"marked as duplicate and rejected.\"\n",
    "}\n",
    "\n",
    "val aNewIssue: String = \"uniqueDescr4\"\n",
    "val anIssueAlreadyIn: String = \"uniqueDescr2\"\n",
    "println(\"Issue $aNewIssue ${getStatusLog(addIssue(aNewIssue))}\")\n",
    "println(\"Issue $anIssueAlreadyIn ${getStatusLog(addIssue(anIssueAlreadyIn))}\")\n"
   ]
  }
 ],
 "metadata": {
  "kernelspec": {
   "display_name": "Kotlin",
   "language": "kotlin",
   "name": "kotlin"
  },
  "language_info": {
   "name": "kotlin",
   "version": "1.9.0",
   "mimetype": "text/x-kotlin",
   "file_extension": ".kt",
   "pygments_lexer": "kotlin",
   "codemirror_mode": "text/x-kotlin",
   "nbconvert_exporter": ""
  }
 },
 "nbformat": 4,
 "nbformat_minor": 0
}
