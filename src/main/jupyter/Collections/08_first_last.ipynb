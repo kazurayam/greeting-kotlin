{
 "cells": [
  {
   "cell_type": "markdown",
   "source": [
    "## find, last\n",
    "https://play.kotlinlang.org/byExample/05_Collections/07_firstlast\n"
   ],
   "metadata": {
    "collapsed": false
   }
  },
  {
   "cell_type": "code",
   "execution_count": 2,
   "metadata": {
    "collapsed": true,
    "ExecuteTime": {
     "end_time": "2024-01-02T23:58:20.673794Z",
     "start_time": "2024-01-02T23:58:19.110016Z"
    }
   },
   "outputs": [
    {
     "name": "stdout",
     "output_type": "stream",
     "text": [
      "first=1\n",
      "last=-6\n",
      "firstEven=-2\n",
      "lastEven=-6\n"
     ]
    }
   ],
   "source": [
    "val numbers = listOf(1, -2, 3, -4, 5, -6)\n",
    "val first = numbers.first()\n",
    "val last = numbers.last()\n",
    "val firstEven = numbers.first({ it % 2 == 0})\n",
    "val lastEven = numbers.last{it % 2 == 0}\n",
    "println(\"first=${first}\")\n",
    "println(\"last=${last}\")\n",
    "println(\"firstEven=${firstEven}\")\n",
    "println(\"lastEven=${lastEven}\")"
   ]
  },
  {
   "cell_type": "markdown",
   "source": [
    "#### firstOrNull, lastOrNull"
   ],
   "metadata": {
    "collapsed": false
   }
  },
  {
   "cell_type": "code",
   "outputs": [
    {
     "name": "stdout",
     "output_type": "stream",
     "text": [
      "first=null\n",
      "last=null\n"
     ]
    }
   ],
   "source": [
    "val words = listOf(\"foo\",\"bar\",\"baz\",\"faz\")\n",
    "val empty = emptyList<String>()\n",
    "println(\"first=${empty.firstOrNull()}\");\n",
    "println(\"last=${empty.lastOrNull()}\");"
   ],
   "metadata": {
    "collapsed": false,
    "ExecuteTime": {
     "end_time": "2024-01-03T00:03:58.955014Z",
     "start_time": "2024-01-03T00:03:57.843068Z"
    }
   },
   "execution_count": 4
  },
  {
   "cell_type": "code",
   "outputs": [
    {
     "name": "stdout",
     "output_type": "stream",
     "text": [
      "firstF=foo\n",
      "firstZ=null\n"
     ]
    }
   ],
   "source": [
    "println(\"firstF=${words.firstOrNull { it.startsWith('f')}}\");\n",
    "println(\"firstZ=${words.firstOrNull { it.startsWith('z')}}\");"
   ],
   "metadata": {
    "collapsed": false,
    "ExecuteTime": {
     "end_time": "2024-01-03T00:05:12.126567Z",
     "start_time": "2024-01-03T00:05:11.036440Z"
    }
   },
   "execution_count": 6
  },
  {
   "cell_type": "code",
   "outputs": [
    {
     "name": "stdout",
     "output_type": "stream",
     "text": [
      "lastF=null\n",
      "lastZ=faz\n"
     ]
    }
   ],
   "source": [
    "println(\"lastF=${words.lastOrNull { it.endsWith('f')}}\");\n",
    "println(\"lastZ=${words.lastOrNull { it.endsWith('z')}}\");"
   ],
   "metadata": {
    "collapsed": false,
    "ExecuteTime": {
     "end_time": "2024-01-03T00:06:15.171933Z",
     "start_time": "2024-01-03T00:06:14.355228Z"
    }
   },
   "execution_count": 7
  }
 ],
 "metadata": {
  "kernelspec": {
   "display_name": "Kotlin",
   "language": "kotlin",
   "name": "kotlin"
  },
  "language_info": {
   "name": "kotlin",
   "version": "1.9.0",
   "mimetype": "text/x-kotlin",
   "file_extension": ".kt",
   "pygments_lexer": "kotlin",
   "codemirror_mode": "text/x-kotlin",
   "nbconvert_exporter": ""
  }
 },
 "nbformat": 4,
 "nbformat_minor": 0
}
