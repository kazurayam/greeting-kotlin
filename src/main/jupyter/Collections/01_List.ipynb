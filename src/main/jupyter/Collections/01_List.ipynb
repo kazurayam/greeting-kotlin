{
 "cells": [
  {
   "cell_type": "markdown",
   "source": [
    "# Collections\n",
    "## List"
   ],
   "metadata": {
    "collapsed": false
   }
  },
  {
   "cell_type": "code",
   "execution_count": 3,
   "metadata": {
    "collapsed": true,
    "ExecuteTime": {
     "end_time": "2024-01-01T09:52:01.136124Z",
     "start_time": "2024-01-01T09:52:00.391790Z"
    }
   },
   "outputs": [
    {
     "name": "stdout",
     "output_type": "stream",
     "text": [
      "Tot sudoers: 4\n",
      "Some useful info on user 1\n",
      "Some useful info on user 2\n",
      "Some useful info on user 3\n",
      "Some useful info on user 4\n"
     ]
    }
   ],
   "source": [
    "val systemUsers: MutableList<Int> = mutableListOf(1, 2, 3)\n",
    "val sudoers: List<Int> = systemUsers\n",
    "fun addSystemUser(newUser: Int) {\n",
    "    systemUsers.add(newUser)\n",
    "}\n",
    "fun getSysSudoers(): List<Int> {\n",
    "    return sudoers\n",
    "}\n",
    "addSystemUser(4)\n",
    "println(\"Tot sudoers: ${getSysSudoers().size}\")\n",
    "getSysSudoers().forEach {\n",
    "    i -> println(\"Some useful info on user $i\")\n",
    "}"
   ]
  }
 ],
 "metadata": {
  "kernelspec": {
   "display_name": "Kotlin",
   "language": "kotlin",
   "name": "kotlin"
  },
  "language_info": {
   "name": "kotlin",
   "version": "1.9.0",
   "mimetype": "text/x-kotlin",
   "file_extension": ".kt",
   "pygments_lexer": "kotlin",
   "codemirror_mode": "text/x-kotlin",
   "nbconvert_exporter": ""
  }
 },
 "nbformat": 4,
 "nbformat_minor": 0
}
