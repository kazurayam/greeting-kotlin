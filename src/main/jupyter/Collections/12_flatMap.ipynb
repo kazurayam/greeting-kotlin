{
 "cells": [
  {
   "cell_type": "markdown",
   "source": [
    "### flatMap\n",
    "https://play.kotlinlang.org/byExample/05_Collections/12_flatMap"
   ],
   "metadata": {
    "collapsed": false
   }
  },
  {
   "cell_type": "code",
   "execution_count": 1,
   "metadata": {
    "collapsed": true,
    "ExecuteTime": {
     "end_time": "2024-01-03T00:46:46.036994Z",
     "start_time": "2024-01-03T00:46:43.032798Z"
    }
   },
   "outputs": [
    {
     "name": "stdout",
     "output_type": "stream",
     "text": [
      "[[apple, orange, banana, grapes], [shirts, pants, jeans]]\n",
      "[apple, orange, banana, grapes, shirts, pants, jeans]\n"
     ]
    }
   ],
   "source": [
    "val fruitsBag = listOf(\"apple\", \"orange\", \"banana\", \"grapes\")\n",
    "val clothesBag = listOf(\"shirts\", \"pants\", \"jeans\")\n",
    "val cart = listOf(fruitsBag, clothesBag)\n",
    "val mapBag = cart.map { it }\n",
    "println(mapBag)\n",
    "val flatMapBag = cart.flatMap {it}\n",
    "println(flatMapBag)"
   ]
  }
 ],
 "metadata": {
  "kernelspec": {
   "display_name": "Kotlin",
   "language": "kotlin",
   "name": "kotlin"
  },
  "language_info": {
   "name": "kotlin",
   "version": "1.9.0",
   "mimetype": "text/x-kotlin",
   "file_extension": ".kt",
   "pygments_lexer": "kotlin",
   "codemirror_mode": "text/x-kotlin",
   "nbconvert_exporter": ""
  }
 },
 "nbformat": 4,
 "nbformat_minor": 0
}
