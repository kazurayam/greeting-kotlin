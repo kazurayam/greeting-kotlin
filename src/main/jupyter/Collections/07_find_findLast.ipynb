{
 "cells": [
  {
   "cell_type": "markdown",
   "source": [
    "# find, findLast\n",
    "\n",
    "https://play.kotlinlang.org/byExample/05_Collections/06_find"
   ],
   "metadata": {
    "collapsed": false
   }
  },
  {
   "cell_type": "code",
   "execution_count": 7,
   "metadata": {
    "collapsed": true,
    "ExecuteTime": {
     "end_time": "2024-01-02T13:06:57.760403Z",
     "start_time": "2024-01-02T13:06:55.470056Z"
    }
   },
   "outputs": [
    {
     "name": "stdout",
     "output_type": "stream",
     "text": [
      "something\n",
      "somehow\n",
      "null\n"
     ]
    }
   ],
   "source": [
    "val words = listOf(\"Lets\", \"find\", \"something\", \"in\", \"collection\", \"somehow\")\n",
    "val first = words.find { it.startsWith(\"some\")}\n",
    "println(first)\n",
    "val last = words.findLast { it.startsWith(\"some\")}\n",
    "println(last)\n",
    "val nothing = words.find { it.contains(\"nothing\")}\n",
    "println(nothing)"
   ]
  }
 ],
 "metadata": {
  "kernelspec": {
   "display_name": "Kotlin",
   "language": "kotlin",
   "name": "kotlin"
  },
  "language_info": {
   "name": "kotlin",
   "version": "1.9.0",
   "mimetype": "text/x-kotlin",
   "file_extension": ".kt",
   "pygments_lexer": "kotlin",
   "codemirror_mode": "text/x-kotlin",
   "nbconvert_exporter": ""
  }
 },
 "nbformat": 4,
 "nbformat_minor": 0
}
