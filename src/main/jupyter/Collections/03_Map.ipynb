{
 "cells": [
  {
   "cell_type": "markdown",
   "source": [
    "## Map\n",
    "\n",
    "https://play.kotlinlang.org/byExample/05_Collections/03_Map\n",
    "\n"
   ],
   "metadata": {
    "collapsed": false
   }
  },
  {
   "cell_type": "code",
   "execution_count": 4,
   "metadata": {
    "collapsed": true,
    "ExecuteTime": {
     "end_time": "2024-01-01T10:50:25.111130Z",
     "start_time": "2024-01-01T10:50:23.807855Z"
    }
   },
   "outputs": [
    {
     "name": "stdout",
     "output_type": "stream",
     "text": [
      "EZ-Pass report:\n",
      "ID 1, credit 100\n",
      "ID 2, credit 100\n",
      "ID 3, credit 100\n",
      "Updating 1...\n",
      "Updating 1...\n",
      "Error: Trying to update a non-existing account (id: 5)\n",
      "EZ-Pass report:\n",
      "ID 1, credit 130\n",
      "ID 2, credit 100\n",
      "ID 3, credit 100\n"
     ]
    }
   ],
   "source": [
    "val POINTS_X_PASS: Int = 15\n",
    "val EZPassAccounts: MutableMap<Int, Int> = \n",
    "    mutableMapOf(1 to 100, 2 to 100, 3 to 100)\n",
    "val EZPassReport: Map<Int, Int> = EZPassAccounts\n",
    "\n",
    "fun updatePointsCredit(accountId: Int) {\n",
    "    if (EZPassAccounts.containsKey(accountId)) {\n",
    "        println(\"Updating $accountId...\")\n",
    "        EZPassAccounts[accountId] =\n",
    "            EZPassAccounts.getValue(accountId) + POINTS_X_PASS\n",
    "    } else {\n",
    "        println(\"Error: Trying to update a non-existing account (id: $accountId)\")\n",
    "    }\n",
    "}\n",
    "\n",
    "fun accountsReport() {\n",
    "    println(\"EZ-Pass report:\")\n",
    "    EZPassReport.forEach {\n",
    "        k, v -> println(\"ID $k, credit $v\");\n",
    "    }\n",
    "}\n",
    "\n",
    "accountsReport()\n",
    "updatePointsCredit(1)\n",
    "updatePointsCredit(1)\n",
    "updatePointsCredit(5)\n",
    "accountsReport()"
   ]
  }
 ],
 "metadata": {
  "kernelspec": {
   "display_name": "Kotlin",
   "language": "kotlin",
   "name": "kotlin"
  },
  "language_info": {
   "name": "kotlin",
   "version": "1.9.0",
   "mimetype": "text/x-kotlin",
   "file_extension": ".kt",
   "pygments_lexer": "kotlin",
   "codemirror_mode": "text/x-kotlin",
   "nbconvert_exporter": ""
  }
 },
 "nbformat": 4,
 "nbformat_minor": 0
}
