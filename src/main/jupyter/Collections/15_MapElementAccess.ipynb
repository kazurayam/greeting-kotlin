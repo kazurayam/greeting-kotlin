{
 "cells": [
  {
   "cell_type": "markdown",
   "source": [
    "### Map Element Access\n",
    "https://play.kotlinlang.org/byExample/05_Collections/15_Map_getValue"
   ],
   "metadata": {
    "collapsed": false
   }
  },
  {
   "cell_type": "code",
   "execution_count": 8,
   "metadata": {
    "collapsed": true,
    "ExecuteTime": {
     "end_time": "2024-01-03T01:08:51.080567Z",
     "start_time": "2024-01-03T01:08:49.669891Z"
    }
   },
   "outputs": [
    {
     "name": "stdout",
     "output_type": "stream",
     "text": [
      "value1=42\n",
      "value2=null\n",
      "value3=42\n",
      "mapWithDefault: {key=42}\n",
      "value4: 4\n",
      "Message: java.util.NoSuchElementException: Key anotherKey is missing in the map.\n"
     ]
    }
   ],
   "source": [
    "val map = mapOf(\"key\" to 42)\n",
    "val value1 = map[\"key\"]\n",
    "println(\"value1=$value1\")\n",
    "val value2 = map[\"key2\"]\n",
    "println(\"value2=$value2\")\n",
    "val value3: Int = map.getValue(\"key\")\n",
    "println(\"value3=$value3\")\n",
    "\n",
    "val mapWithDefault = map.withDefault { k -> k.length }\n",
    "println(\"mapWithDefault: $mapWithDefault\")\n",
    "val value4 = mapWithDefault.getValue(\"key2\")\n",
    "println(\"value4: $value4\")\n",
    "\n",
    "try {\n",
    "    map.getValue(\"anotherKey\")\n",
    "} catch (e: NoSuchElementException) {\n",
    "    println(\"Message: $e\");\n",
    "}"
   ]
  }
 ],
 "metadata": {
  "kernelspec": {
   "display_name": "Kotlin",
   "language": "kotlin",
   "name": "kotlin"
  },
  "language_info": {
   "name": "kotlin",
   "version": "1.9.0",
   "mimetype": "text/x-kotlin",
   "file_extension": ".kt",
   "pygments_lexer": "kotlin",
   "codemirror_mode": "text/x-kotlin",
   "nbconvert_exporter": ""
  }
 },
 "nbformat": 4,
 "nbformat_minor": 0
}
