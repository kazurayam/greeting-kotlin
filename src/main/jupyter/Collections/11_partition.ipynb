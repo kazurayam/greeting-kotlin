{
 "cells": [
  {
   "cell_type": "markdown",
   "source": [
    "### partition\n",
    "https://play.kotlinlang.org/byExample/05_Collections/11_partition"
   ],
   "metadata": {
    "collapsed": false
   }
  },
  {
   "cell_type": "code",
   "execution_count": 4,
   "metadata": {
    "collapsed": true,
    "ExecuteTime": {
     "end_time": "2024-01-03T00:43:33.038139Z",
     "start_time": "2024-01-03T00:43:30.969781Z"
    }
   },
   "outputs": [
    {
     "name": "stdout",
     "output_type": "stream",
     "text": [
      "([-2, -4, -6], [1, 3, 5])\n",
      "[1, 3, 5]\n",
      "[-2, -4, -6]\n"
     ]
    }
   ],
   "source": [
    "val numbers = listOf(1, -2, 3, -4, 5, -6)\n",
    "val evenOdd = numbers.partition { it % 2 == 0 }\n",
    "println(evenOdd)\n",
    "val (positives, negatives) = numbers.partition { it > 0 }\n",
    "println(positives)\n",
    "println(negatives)"
   ]
  }
 ],
 "metadata": {
  "kernelspec": {
   "display_name": "Kotlin",
   "language": "kotlin",
   "name": "kotlin"
  },
  "language_info": {
   "name": "kotlin",
   "version": "1.9.0",
   "mimetype": "text/x-kotlin",
   "file_extension": ".kt",
   "pygments_lexer": "kotlin",
   "codemirror_mode": "text/x-kotlin",
   "nbconvert_exporter": ""
  }
 },
 "nbformat": 4,
 "nbformat_minor": 0
}
