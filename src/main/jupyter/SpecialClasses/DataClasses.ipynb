{
 "cells": [
  {
   "cell_type": "code",
   "execution_count": null,
   "metadata": {
    "collapsed": true
   },
   "outputs": [],
   "source": []
  },
  {
   "cell_type": "markdown",
   "source": [
    "## Data Classes"
   ],
   "metadata": {
    "collapsed": false
   }
  },
  {
   "cell_type": "code",
   "outputs": [
    {
     "name": "stdout",
     "output_type": "stream",
     "text": [
      "User(name=Alex, id=1)"
     ]
    }
   ],
   "source": [
    "data class User(val name: String, val id: Int) {\n",
    "    override fun equals(other:Any?) =\n",
    "        other is User && other.id == this.id\n",
    "}\n",
    "\n",
    "val user = User(\"Alex\", 1)\n",
    "print(user)"
   ],
   "metadata": {
    "collapsed": false,
    "ExecuteTime": {
     "end_time": "2024-01-01T00:04:00.928825Z",
     "start_time": "2024-01-01T00:03:59.010348Z"
    }
   },
   "execution_count": 1
  },
  {
   "cell_type": "code",
   "outputs": [
    {
     "name": "stdout",
     "output_type": "stream",
     "text": [
      "user == secondUser: true\n",
      "user == thirdUser: false\n"
     ]
    }
   ],
   "source": [
    "val secondUser = User(\"Alex\", 1)\n",
    "val thirdUser = User(\"Max\", 2)\n",
    "println(\"user == secondUser: ${user == secondUser}\")\n",
    "println(\"user == thirdUser: ${user == thirdUser}\")"
   ],
   "metadata": {
    "collapsed": false,
    "ExecuteTime": {
     "end_time": "2024-01-01T00:05:31.342031Z",
     "start_time": "2024-01-01T00:05:30.708316Z"
    }
   },
   "execution_count": 3
  },
  {
   "cell_type": "code",
   "outputs": [
    {
     "name": "stdout",
     "output_type": "stream",
     "text": [
      "user.hashCode()=63347075\n",
      "secondUser.hashCode()=63347075\n",
      "thirdUser.hashCode()=2390846\n"
     ]
    }
   ],
   "source": [
    "println(\"user.hashCode()=${user.hashCode()}\")\n",
    "println(\"secondUser.hashCode()=${secondUser.hashCode()}\")\n",
    "println(\"thirdUser.hashCode()=${thirdUser.hashCode()}\")"
   ],
   "metadata": {
    "collapsed": false,
    "ExecuteTime": {
     "end_time": "2024-01-01T00:06:49.791033Z",
     "start_time": "2024-01-01T00:06:49.088617Z"
    }
   },
   "execution_count": 4
  },
  {
   "cell_type": "code",
   "outputs": [
    {
     "name": "stdout",
     "output_type": "stream",
     "text": [
      "User(name=Alex, id=1)\n"
     ]
    }
   ],
   "source": [
    "println(user.copy())"
   ],
   "metadata": {
    "collapsed": false,
    "ExecuteTime": {
     "end_time": "2024-01-01T00:07:11.139340Z",
     "start_time": "2024-01-01T00:07:10.361356Z"
    }
   },
   "execution_count": 5
  },
  {
   "cell_type": "code",
   "outputs": [
    {
     "name": "stdout",
     "output_type": "stream",
     "text": [
      "user == user.copy(): true\n",
      "user === user.copy(): false\n"
     ]
    }
   ],
   "source": [
    "println(\"user == user.copy(): ${user == user.copy()}\")\n",
    "println(\"user === user.copy(): ${user === user.copy()}\")"
   ],
   "metadata": {
    "collapsed": false,
    "ExecuteTime": {
     "end_time": "2024-01-01T00:07:54.070324Z",
     "start_time": "2024-01-01T00:07:53.734629Z"
    }
   },
   "execution_count": 6
  },
  {
   "cell_type": "code",
   "outputs": [
    {
     "name": "stdout",
     "output_type": "stream",
     "text": [
      "user.copy(\"Max\": User(name=Max, id=1)\n"
     ]
    }
   ],
   "source": [
    "println(\"user.copy(\\\"Max\\\": \" + user.copy(\"Max\"))"
   ],
   "metadata": {
    "collapsed": false,
    "ExecuteTime": {
     "end_time": "2024-01-01T00:09:58.659358Z",
     "start_time": "2024-01-01T00:09:58.434738Z"
    }
   },
   "execution_count": 8
  },
  {
   "cell_type": "code",
   "outputs": [
    {
     "name": "stdout",
     "output_type": "stream",
     "text": [
      "user.copy(id = 3): User(name=Alex, id=3)\n"
     ]
    }
   ],
   "source": [
    "println(\"user.copy(id = 3): \" + user.copy(id = 3))"
   ],
   "metadata": {
    "collapsed": false,
    "ExecuteTime": {
     "end_time": "2024-01-01T00:10:48.689610Z",
     "start_time": "2024-01-01T00:10:47.905391Z"
    }
   },
   "execution_count": 9
  },
  {
   "cell_type": "code",
   "outputs": [
    {
     "name": "stdout",
     "output_type": "stream",
     "text": [
      "name = Alex\n"
     ]
    }
   ],
   "source": [
    "println(\"name = ${user.component1()}\")"
   ],
   "metadata": {
    "collapsed": false,
    "ExecuteTime": {
     "end_time": "2024-01-01T00:11:18.408449Z",
     "start_time": "2024-01-01T00:11:18.202073Z"
    }
   },
   "execution_count": 10
  },
  {
   "cell_type": "code",
   "outputs": [
    {
     "name": "stdout",
     "output_type": "stream",
     "text": [
      "name = 1\n"
     ]
    }
   ],
   "source": [
    "println(\"name = ${user.component2()}\")"
   ],
   "metadata": {
    "collapsed": false,
    "ExecuteTime": {
     "end_time": "2024-01-01T00:11:38.736990Z",
     "start_time": "2024-01-01T00:11:38.252238Z"
    }
   },
   "execution_count": 11
  }
 ],
 "metadata": {
  "kernelspec": {
   "display_name": "Kotlin",
   "language": "kotlin",
   "name": "kotlin"
  },
  "language_info": {
   "name": "kotlin",
   "version": "1.9.0",
   "mimetype": "text/x-kotlin",
   "file_extension": ".kt",
   "pygments_lexer": "kotlin",
   "codemirror_mode": "text/x-kotlin",
   "nbconvert_exporter": ""
  }
 },
 "nbformat": 4,
 "nbformat_minor": 0
}
