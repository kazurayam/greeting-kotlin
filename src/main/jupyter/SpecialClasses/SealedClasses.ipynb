{
 "cells": [
  {
   "cell_type": "markdown",
   "source": [
    "## Sealed Classes\n",
    "\n",
    "https://play.kotlinlang.org/byExample/03_special_classes/03_Sealed%20Classes\n",
    "\n",
    "Sealed classes let you restrict the use of inheritance. Once you declare a class sealed, it can only be subclassed from inside the same package where the sealed class is declared. It can not be subclassed outside of the package where the sealed class is declared.\n"
   ],
   "metadata": {
    "collapsed": false
   }
  },
  {
   "cell_type": "code",
   "execution_count": 4,
   "metadata": {
    "collapsed": true,
    "ExecuteTime": {
     "end_time": "2024-01-01T02:35:26.309208Z",
     "start_time": "2024-01-01T02:35:24.883445Z"
    }
   },
   "outputs": [
    {
     "name": "stdout",
     "output_type": "stream",
     "text": [
      "Hello Snowy cat\n"
     ]
    }
   ],
   "source": [
    "sealed class Mammal(val name: String)\n",
    "\n",
    "class Cat(val catName: String): Mammal(catName)\n",
    "class Human(val humanName: String, val job: String) : Mammal(humanName)\n",
    "\n",
    "fun greetMammal(mammal: Mammal): String {\n",
    "    when (mammal) {\n",
    "        is Human -> return \"Hello ${mammal.name}; You are working as a ${mammal.job}\"\n",
    "        is Cat -> return \"Hello ${mammal.name} cat\"\n",
    "        else -> {\n",
    "            return \"You are not a mammal\"\n",
    "        }\n",
    "    }\n",
    "}\n",
    "println(greetMammal(Cat(\"Snowy\")))\n"
   ]
  }
 ],
 "metadata": {
  "kernelspec": {
   "display_name": "Kotlin",
   "language": "kotlin",
   "name": "kotlin"
  },
  "language_info": {
   "name": "kotlin",
   "version": "1.9.0",
   "mimetype": "text/x-kotlin",
   "file_extension": ".kt",
   "pygments_lexer": "kotlin",
   "codemirror_mode": "text/x-kotlin",
   "nbconvert_exporter": ""
  }
 },
 "nbformat": 4,
 "nbformat_minor": 0
}
