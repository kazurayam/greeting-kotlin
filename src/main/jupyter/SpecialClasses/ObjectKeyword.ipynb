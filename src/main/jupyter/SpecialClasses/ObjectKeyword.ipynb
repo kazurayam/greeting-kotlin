{
 "cells": [
  {
   "cell_type": "markdown",
   "source": [
    "## Object Keyword\n",
    "\n",
    "https://play.kotlinlang.org/byExample/03_special_classes/04_Object\n",
    "\n",
    "Classes and objects in Kotlin work the same way as in most object-oriented languages: a class is a blueprint, and an object is an instance of a class. Usually, you define a class and then create multiple instances of that class."
   ],
   "metadata": {
    "collapsed": false
   }
  },
  {
   "cell_type": "code",
   "execution_count": 1,
   "metadata": {
    "collapsed": true,
    "ExecuteTime": {
     "end_time": "2024-01-01T02:39:32.191197Z",
     "start_time": "2024-01-01T02:39:30.384405Z"
    }
   },
   "outputs": [
    {
     "name": "stdout",
     "output_type": "stream",
     "text": [
      "2\n",
      "45\n"
     ]
    }
   ],
   "source": [
    "import java.util.Random\n",
    "\n",
    "class LuckDispatcher {\n",
    "    fun getNumber() {\n",
    "        var objRandom = Random()\n",
    "        println(objRandom.nextInt(90))\n",
    "    }\n",
    "}\n",
    "\n",
    "val d1 = LuckDispatcher()\n",
    "val d2 = LuckDispatcher()\n",
    "d1.getNumber()\n",
    "d2.getNumber()"
   ]
  },
  {
   "cell_type": "markdown",
   "source": [
    "#### `object` Expression"
   ],
   "metadata": {
    "collapsed": false
   }
  },
  {
   "cell_type": "code",
   "outputs": [
    {
     "name": "stdout",
     "output_type": "stream",
     "text": [
      "Total price: $500"
     ]
    }
   ],
   "source": [
    "fun rentPrice(standardDays: Int, festivityDays: Int, specialDays: Int): Unit {\n",
    "    val dayRates = object {\n",
    "        var standard: Int = 30 * standardDays\n",
    "        var festivity: Int = 50 * festivityDays\n",
    "        var special: Int = 100 * specialDays\n",
    "    }\n",
    "    val total = dayRates.standard + dayRates.festivity + dayRates.special\n",
    "    print(\"Total price: $$total\")\n",
    "}\n",
    "rentPrice(10, 2, 1)"
   ],
   "metadata": {
    "collapsed": false,
    "ExecuteTime": {
     "end_time": "2024-01-01T02:46:56.518727Z",
     "start_time": "2024-01-01T02:46:55.273705Z"
    }
   },
   "execution_count": 2
  },
  {
   "cell_type": "markdown",
   "source": [
    "#### `object` Declaration"
   ],
   "metadata": {
    "collapsed": false
   }
  },
  {
   "cell_type": "code",
   "outputs": [
    {
     "name": "stdout",
     "output_type": "stream",
     "text": [
      "input Auth parameters = foo:qwerty\n"
     ]
    }
   ],
   "source": [
    "object DoAuth {\n",
    "    fun takeParams(username: String, password: String) {\n",
    "        println(\"input Auth parameters = $username:$password\")\n",
    "    }\n",
    "}\n",
    "DoAuth.takeParams(\"foo\", \"qwerty\")"
   ],
   "metadata": {
    "collapsed": false,
    "ExecuteTime": {
     "end_time": "2024-01-01T02:50:25.250019Z",
     "start_time": "2024-01-01T02:50:24.353492Z"
    }
   },
   "execution_count": 3
  },
  {
   "cell_type": "markdown",
   "source": [
    "#### companion Objects"
   ],
   "metadata": {
    "collapsed": false
   }
  },
  {
   "cell_type": "code",
   "outputs": [
    {
     "name": "stdout",
     "output_type": "stream",
     "text": [
      "BONG BONG BONG BONG BONG BONG BONG BONG BONG BONG BONG BONG "
     ]
    }
   ],
   "source": [
    "class BigBen {\n",
    "    companion object Bonger {\n",
    "        fun getBongs(nTimes: Int) {\n",
    "            for (i in 1 .. nTimes) {\n",
    "                print(\"BONG \")\n",
    "            }\n",
    "        }\n",
    "    }\n",
    "}\n",
    "BigBen.getBongs(12)"
   ],
   "metadata": {
    "collapsed": false,
    "ExecuteTime": {
     "end_time": "2024-01-01T02:52:09.000016Z",
     "start_time": "2024-01-01T02:52:07.633706Z"
    }
   },
   "execution_count": 4
  }
 ],
 "metadata": {
  "kernelspec": {
   "display_name": "Kotlin",
   "language": "kotlin",
   "name": "kotlin"
  },
  "language_info": {
   "name": "kotlin",
   "version": "1.9.0",
   "mimetype": "text/x-kotlin",
   "file_extension": ".kt",
   "pygments_lexer": "kotlin",
   "codemirror_mode": "text/x-kotlin",
   "nbconvert_exporter": ""
  }
 },
 "nbformat": 4,
 "nbformat_minor": 0
}
