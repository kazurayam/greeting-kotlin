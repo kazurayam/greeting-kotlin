{
 "cells": [
  {
   "cell_type": "markdown",
   "source": [
    "## Enum Classes"
   ],
   "metadata": {
    "collapsed": false
   }
  },
  {
   "cell_type": "code",
   "execution_count": 1,
   "metadata": {
    "collapsed": true,
    "ExecuteTime": {
     "end_time": "2024-01-01T02:10:07.126416Z",
     "start_time": "2024-01-01T02:10:06.168618Z"
    }
   },
   "outputs": [
    {
     "name": "stdout",
     "output_type": "stream",
     "text": [
      "It's running\n"
     ]
    }
   ],
   "source": [
    "enum class State {\n",
    "    IDLE, RUNNING, FINISHED\n",
    "}\n",
    "\n",
    "val state = State.RUNNING\n",
    "val message = when (state) {\n",
    "    State.IDLE -> \"It's idle\"\n",
    "    State.RUNNING -> \"It's running\"\n",
    "    State.FINISHED -> \"It's finished\"\n",
    "}\n",
    "println(message)"
   ]
  },
  {
   "cell_type": "code",
   "outputs": [
    {
     "name": "stdout",
     "output_type": "stream",
     "text": [
      "RED\n",
      "true\n",
      "false\n",
      "true\n"
     ]
    }
   ],
   "source": [
    "enum class Color(val rgb: Int) {\n",
    "    RED(0xFF0000),\n",
    "    GREEN(0x00FF00),\n",
    "    BLUE(0x0000FF),\n",
    "    YELLOW(0xFFFF00);\n",
    "    fun containsRed() = (this.rgb and 0xFF0000 != 0)\n",
    "}\n",
    "val red = Color.RED\n",
    "println(red)\n",
    "println(red.containsRed())\n",
    "println(Color.BLUE.containsRed())\n",
    "println(Color.YELLOW.containsRed())"
   ],
   "metadata": {
    "collapsed": false,
    "ExecuteTime": {
     "end_time": "2024-01-01T02:23:29.647175Z",
     "start_time": "2024-01-01T02:23:28.238269Z"
    }
   },
   "execution_count": 9
  },
  {
   "cell_type": "code",
   "outputs": [],
   "source": [],
   "metadata": {
    "collapsed": false
   }
  }
 ],
 "metadata": {
  "kernelspec": {
   "display_name": "Kotlin",
   "language": "kotlin",
   "name": "kotlin"
  },
  "language_info": {
   "name": "kotlin",
   "version": "1.9.0",
   "mimetype": "text/x-kotlin",
   "file_extension": ".kt",
   "pygments_lexer": "kotlin",
   "codemirror_mode": "text/x-kotlin",
   "nbconvert_exporter": ""
  }
 },
 "nbformat": 4,
 "nbformat_minor": 0
}
